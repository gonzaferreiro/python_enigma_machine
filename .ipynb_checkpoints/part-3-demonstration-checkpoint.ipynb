{
 "cells": [
  {
   "cell_type": "code",
   "execution_count": 1,
   "metadata": {},
   "outputs": [],
   "source": [
    "from enigma import *"
   ]
  },
  {
   "cell_type": "markdown",
   "metadata": {},
   "source": [
    "### Using new default rotors and reflectors"
   ]
  },
  {
   "cell_type": "markdown",
   "metadata": {},
   "source": [
    "**NOTE:**\" all the following rotors and reflectors can be tested out in the following simulator:\n",
    "https://gchq.github.io/CyberChef/"
   ]
  },
  {
   "cell_type": "code",
   "execution_count": 2,
   "metadata": {},
   "outputs": [
    {
     "name": "stdout",
     "output_type": "stream",
     "text": [
      "DVRECTHOUGGHSXIREAL\n",
      "THISISMYCUSTOMSETUP \n",
      "\n",
      "EGNYOQBBBKLVYPBAFJQ\n",
      "THISISMYCUSTOMSETUP \n",
      "\n",
      "VCDDJUEIZIVSWYUKLEL\n",
      "THISISMYCUSTOMSETUP \n",
      "\n",
      "DDDLJRHJDTZSAVZDQGC\n",
      "THISISMYCUSTOMSETUP \n",
      "\n"
     ]
    }
   ],
   "source": [
    "# RotorVI\n",
    "enigmaMachine = EnigmaMachine()\n",
    "enigmaMachine.setup(rotors=[['RotorVI',1,'A',1],['RotorII',1,'A',2],['RotorIII',1,'Z',3]],\n",
    "                      reflector='ReflectorB')\n",
    "\n",
    "enigmaMachine_rev = EnigmaMachine()\n",
    "enigmaMachine_rev.setup(rotors=[['RotorVI',1,'A',1],['RotorII',1,'A',2],['RotorIII',1,'Z',3]],\n",
    "                          reflector='ReflectorB')\n",
    "\n",
    "print(enigmaMachine.serialEncode('THISISMYCUSTOMSETUP'))\n",
    "print(enigmaMachine_rev.serialEncode('DVRECTHOUGGHSXIREAL'),'\\n')\n",
    "\n",
    "#--------\n",
    "\n",
    "# RotorVII\n",
    "enigmaMachine = EnigmaMachine()\n",
    "enigmaMachine.setup(rotors=[['RotorBeta',1,'A',1],['RotorVII',1,'A',2],['RotorIII',1,'Z',3]],\n",
    "                      reflector='ReflectorB')\n",
    "\n",
    "enigmaMachine_rev = EnigmaMachine()\n",
    "enigmaMachine_rev.setup(rotors=[['RotorBeta',1,'A',1],['RotorVII',1,'A',2],['RotorIII',1,'Z',3]],\n",
    "                          reflector='ReflectorB')\n",
    "\n",
    "print(enigmaMachine.serialEncode('THISISMYCUSTOMSETUP'))\n",
    "print(enigmaMachine_rev.serialEncode('EGNYOQBBBKLVYPBAFJQ'),'\\n')\n",
    "\n",
    "#--------\n",
    "\n",
    "# RotorVIII and ReflectorBThin\n",
    "enigmaMachine = EnigmaMachine()\n",
    "enigmaMachine.setup(rotors=[['RotorI',1,'A',1],['RotorII',1,'A',2],['RotorVIII',1,'Z',3]],\n",
    "                      reflector='ReflectorBThin')\n",
    "\n",
    "enigmaMachine_rev = EnigmaMachine()\n",
    "enigmaMachine_rev.setup(rotors=[['RotorI',1,'A',1],['RotorII',1,'A',2],['RotorVIII',1,'Z',3]],\n",
    "                          reflector='ReflectorBThin')\n",
    "\n",
    "print(enigmaMachine.serialEncode('THISISMYCUSTOMSETUP'))\n",
    "print(enigmaMachine_rev.serialEncode('VCDDJUEIZIVSWYUKLEL'),'\\n')\n",
    "      \n",
    "#--------\n",
    "\n",
    "# ReflectorCThin\n",
    "enigmaMachine = EnigmaMachine()\n",
    "enigmaMachine.setup(rotors=[['RotorI',1,'A',1],['RotorII',1,'A',2],['RotorIII',1,'Z',3]],\n",
    "                      reflector='ReflectorCThin')\n",
    "\n",
    "enigmaMachine_rev = EnigmaMachine()\n",
    "enigmaMachine_rev.setup(rotors=[['RotorI',1,'A',1],['RotorII',1,'A',2],['RotorIII',1,'Z',3]],\n",
    "                          reflector='ReflectorCThin')\n",
    "\n",
    "print(enigmaMachine.serialEncode('THISISMYCUSTOMSETUP'))\n",
    "print(enigmaMachine_rev.serialEncode('DDDLJRHJDTZSAVZDQGC'),'\\n')"
   ]
  },
  {
   "cell_type": "markdown",
   "metadata": {},
   "source": [
    "### Using custom Rotors and Reflectors"
   ]
  },
  {
   "cell_type": "markdown",
   "metadata": {},
   "source": [
    "**NOTE:** custom rotors and reflectors can be tested out in the following simulator:\n",
    "https://gchq.github.io/CyberChef/"
   ]
  },
  {
   "cell_type": "code",
   "execution_count": 3,
   "metadata": {},
   "outputs": [
    {
     "name": "stdout",
     "output_type": "stream",
     "text": [
      "BAWUXZBAHGPZEUDHIXB\n",
      "THISISMYCUSTOMSETUP \n",
      "\n",
      "IHISISEYCUSTOMUEZUP\n",
      "THISISMYCUSTOMSETUP \n",
      "\n"
     ]
    }
   ],
   "source": [
    "# CustomRotor with 3 notches\n",
    "enigmaMachine = EnigmaMachine()\n",
    "enigmaMachine.setup(rotors=[['RotorCustom',1,'A',1,'ABCEDGFHIJKLMONPQRSTUVWXYZ','ACD'],\n",
    "                            ['RotorII',1,'A',2],['RotorVIII',1,'Z',3]],\n",
    "                    reflector='ReflectorBThin')\n",
    "\n",
    "enigmaMachine_rev = EnigmaMachine()\n",
    "enigmaMachine_rev.setup(rotors=[['RotorCustom',1,'A',1,'ABCEDGFHIJKLMONPQRSTUVWXYZ','ACD'],\n",
    "                                ['RotorII',1,'A',2],['RotorVIII',1,'Z',3]],\n",
    "                        reflector='ReflectorBThin')\n",
    "\n",
    "print(enigmaMachine.serialEncode('THISISMYCUSTOMSETUP'))\n",
    "print(enigmaMachine_rev.serialEncode('BAWUXZBAHGPZEUDHIXB'),'\\n')\n",
    "\n",
    "#--------\n",
    "\n",
    "# CustomReflector\n",
    "enigmaMachine = EnigmaMachine()\n",
    "enigmaMachine.setup(rotors=[['RotorI',1,'A',1],['RotorII',1,'A',2],['RotorIII',1,'Z',3]],\n",
    "                    reflector=['ReflectorCustom','ABCEDGFHIJKLMONPQRSTUVWXYZ'])\n",
    "\n",
    "enigmaMachine_rev = EnigmaMachine()\n",
    "enigmaMachine_rev.setup(rotors=[['RotorI',1,'A',1],['RotorII',1,'A',2],['RotorIII',1,'Z',3]],\n",
    "                        reflector=['ReflectorCustom','ABCEDGFHIJKLMONPQRSTUVWXYZ'])\n",
    "\n",
    "print(enigmaMachine.serialEncode('THISISMYCUSTOMSETUP'))\n",
    "print(enigmaMachine_rev.serialEncode('IHISISEYCUSTOMUEZUP'),'\\n')"
   ]
  },
  {
   "cell_type": "markdown",
   "metadata": {},
   "source": [
    "### Setting up more than 4 rotors and then repacling one"
   ]
  },
  {
   "cell_type": "code",
   "execution_count": 4,
   "metadata": {},
   "outputs": [
    {
     "name": "stdout",
     "output_type": "stream",
     "text": [
      "RBQMSLQUSTBZAEQQKVQ\n",
      "THISISMYCUSTOMSETUP \n",
      "\n"
     ]
    }
   ],
   "source": [
    "# Including 6 rotors\n",
    "enigmaMachine = EnigmaMachine()\n",
    "enigmaMachine.setup(rotors=[['RotorVI',1,'A',1],['RotorII',1,'B',2],['RotorIII',1,'C',3],\n",
    "                            ['RotorI',1,'D',4],['RotorIV',1,'E',5],['RotorVI',1,'F',6]],\n",
    "                      reflector='ReflectorB')\n",
    "\n",
    "enigmaMachine_rev = EnigmaMachine()\n",
    "enigmaMachine_rev.setup(rotors=[['RotorVI',1,'A',1],['RotorII',1,'B',2],['RotorIII',1,'C',3],\n",
    "                                ['RotorI',1,'D',4],['RotorIV',1,'E',5],['RotorVI',1,'F',6]],\n",
    "                        reflector='ReflectorB')\n",
    "\n",
    "print(enigmaMachine.serialEncode('THISISMYCUSTOMSETUP'))\n",
    "print(enigmaMachine_rev.serialEncode('RBQMSLQUSTBZAEQQKVQ'),'\\n')"
   ]
  },
  {
   "cell_type": "markdown",
   "metadata": {},
   "source": [
    "Replacing RotorVI for RotorVII:"
   ]
  },
  {
   "cell_type": "code",
   "execution_count": 5,
   "metadata": {},
   "outputs": [],
   "source": [
    "newRotor = RotorVIII(5,'J')\n",
    "enigmaMachine.addRotor(newRotor,6)"
   ]
  },
  {
   "cell_type": "markdown",
   "metadata": {},
   "source": [
    "Examining now the rotor at position 6:"
   ]
  },
  {
   "cell_type": "code",
   "execution_count": 6,
   "metadata": {},
   "outputs": [
    {
     "data": {
      "text/plain": [
       "'VIII'"
      ]
     },
     "execution_count": 6,
     "metadata": {},
     "output_type": "execute_result"
    }
   ],
   "source": [
    "enigmaMachine.rotorsList[5].name"
   ]
  },
  {
   "cell_type": "markdown",
   "metadata": {},
   "source": [
    "### Adding 12 PlugLeads"
   ]
  },
  {
   "cell_type": "code",
   "execution_count": 9,
   "metadata": {},
   "outputs": [
    {
     "name": "stdout",
     "output_type": "stream",
     "text": [
      "VGNBROKDDCFXMPVXYMA\n",
      "THISISMYCUSTOMSETUP \n",
      "\n"
     ]
    }
   ],
   "source": [
    "# Including 12 PlugLeads\n",
    "enigmaMachine = EnigmaMachine()\n",
    "enigmaMachine.setup(rotors=[['RotorVI',1,'A',1],['RotorII',1,'B',2],['RotorIII',1,'C',3]],\n",
    "                    reflector='ReflectorB',plugleads='AB CD EF GH IJ KL MN OP QR ST UV YZ',numPlugLeads=12)\n",
    "\n",
    "enigmaMachine_rev = EnigmaMachine()\n",
    "enigmaMachine_rev.setup(rotors=[['RotorVI',1,'A',1],['RotorII',1,'B',2],['RotorIII',1,'C',3]],\n",
    "                        reflector='ReflectorB',plugleads='AB CD EF GH IJ KL MN OP QR ST UV YZ',numPlugLeads=12)\n",
    "\n",
    "print(enigmaMachine.serialEncode('THISISMYCUSTOMSETUP'))\n",
    "print(enigmaMachine_rev.serialEncode('VGNBROKDDCFXMPVXYMA'),'\\n')"
   ]
  },
  {
   "cell_type": "markdown",
   "metadata": {},
   "source": [
    "### Printing status during decoding/encoding process"
   ]
  },
  {
   "cell_type": "code",
   "execution_count": 10,
   "metadata": {
    "scrolled": false
   },
   "outputs": [
    {
     "name": "stdout",
     "output_type": "stream",
     "text": [
      "Plugboard transforms input in: O\n",
      "\n",
      "Starting with rotors at: [0, 1, 2]\n",
      "Corresponding letters: ['A', 'B', 'C']\n",
      "\n",
      "Coming into rotor III at position D (3) and ring settings 0 | Offset 3\n",
      "Input letter index is 14. Adjusted index 17 tranforms input letter in R\n",
      "Input letter R holds genericMappingIndex 17\n",
      "Corresponding to rotorLetter W\n",
      "Applying offset returns letter T\n",
      "\n",
      "Coming into rotor II at position B (1) and ring settings 0 | Offset 1\n",
      "Input letter index is 19. Adjusted index 20 tranforms input letter in U\n",
      "Input letter U holds genericMappingIndex 20\n",
      "Corresponding to rotorLetter P\n",
      "Applying offset returns letter O\n",
      "\n",
      "Coming into rotor VI at position A (0) and ring settings 0 | Offset 0\n",
      "Input letter index is 14. Adjusted index 14 tranforms input letter in O\n",
      "Input letter O holds genericMappingIndex 14\n",
      "Corresponding to rotorLetter Z\n",
      "Applying offset returns letter Z\n",
      "\n",
      "Reflector B transforms input in: t\n",
      "\n",
      "Coming into rotor VI at position A (0) and ring settings 0 | Offset 0\n",
      "Input letter index is 19. Adjusted index 19 tranforms input letter in T\n",
      "Input letter T holds rotorIndex 24\n",
      "Corresponding to genericMappingLetter Y\n",
      "Applying offset returns letter Y\n",
      "\n",
      "Coming into rotor II at position B (1) and ring settings 0 | Offset 1\n",
      "Input letter index is 24. Adjusted index 25 tranforms input letter in Z\n",
      "Input letter Z holds rotorIndex 18\n",
      "Corresponding to genericMappingLetter S\n",
      "Applying offset returns letter R\n",
      "\n",
      "Coming into rotor III at position D (3) and ring settings 0 | Offset 3\n",
      "Input letter index is 17. Adjusted index 20 tranforms input letter in U\n",
      "Input letter U holds rotorIndex 22\n",
      "Corresponding to genericMappingLetter W\n",
      "Applying offset returns letter T\n",
      "\n",
      "Encoded input so far: S\n",
      "\n",
      "Plugboard transforms input in: Q\n",
      "\n",
      "Starting with rotors at: [0, 1, 3]\n",
      "Corresponding letters: ['A', 'B', 'D']\n",
      "\n",
      "Coming into rotor III at position E (4) and ring settings 0 | Offset 4\n",
      "Input letter index is 16. Adjusted index 20 tranforms input letter in U\n",
      "Input letter U holds genericMappingIndex 20\n",
      "Corresponding to rotorLetter K\n",
      "Applying offset returns letter G\n",
      "\n",
      "Coming into rotor II at position B (1) and ring settings 0 | Offset 1\n",
      "Input letter index is 6. Adjusted index 7 tranforms input letter in H\n",
      "Input letter H holds genericMappingIndex 7\n",
      "Corresponding to rotorLetter U\n",
      "Applying offset returns letter T\n",
      "\n",
      "Coming into rotor VI at position A (0) and ring settings 0 | Offset 0\n",
      "Input letter index is 19. Adjusted index 19 tranforms input letter in T\n",
      "Input letter T holds genericMappingIndex 19\n",
      "Corresponding to rotorLetter S\n",
      "Applying offset returns letter S\n",
      "\n",
      "Reflector B transforms input in: f\n",
      "\n",
      "Coming into rotor VI at position A (0) and ring settings 0 | Offset 0\n",
      "Input letter index is 5. Adjusted index 5 tranforms input letter in F\n",
      "Input letter F holds rotorIndex 7\n",
      "Corresponding to genericMappingLetter H\n",
      "Applying offset returns letter H\n",
      "\n",
      "Coming into rotor II at position B (1) and ring settings 0 | Offset 1\n",
      "Input letter index is 7. Adjusted index 8 tranforms input letter in I\n",
      "Input letter I holds rotorIndex 5\n",
      "Corresponding to genericMappingLetter F\n",
      "Applying offset returns letter E\n",
      "\n",
      "Coming into rotor III at position E (4) and ring settings 0 | Offset 4\n",
      "Input letter index is 4. Adjusted index 8 tranforms input letter in I\n",
      "Input letter I holds rotorIndex 16\n",
      "Corresponding to genericMappingLetter Q\n",
      "Applying offset returns letter M\n",
      "\n",
      "Encoded input so far: SN\n",
      "\n",
      "Plugboard transforms input in: S\n",
      "\n",
      "Starting with rotors at: [0, 1, 4]\n",
      "Corresponding letters: ['A', 'B', 'E']\n",
      "\n",
      "Coming into rotor III at position F (5) and ring settings 0 | Offset 5\n",
      "Input letter index is 18. Adjusted index 23 tranforms input letter in X\n",
      "Input letter X holds genericMappingIndex 23\n",
      "Corresponding to rotorLetter S\n",
      "Applying offset returns letter N\n",
      "\n",
      "Coming into rotor II at position B (1) and ring settings 0 | Offset 1\n",
      "Input letter index is 13. Adjusted index 14 tranforms input letter in O\n",
      "Input letter O holds genericMappingIndex 14\n",
      "Corresponding to rotorLetter M\n",
      "Applying offset returns letter L\n",
      "\n",
      "Coming into rotor VI at position A (0) and ring settings 0 | Offset 0\n",
      "Input letter index is 11. Adjusted index 11 tranforms input letter in L\n",
      "Input letter L holds genericMappingIndex 11\n",
      "Corresponding to rotorLetter E\n",
      "Applying offset returns letter E\n",
      "\n",
      "Reflector B transforms input in: q\n",
      "\n",
      "Coming into rotor VI at position A (0) and ring settings 0 | Offset 0\n",
      "Input letter index is 16. Adjusted index 16 tranforms input letter in Q\n",
      "Input letter Q holds rotorIndex 9\n",
      "Corresponding to genericMappingLetter J\n",
      "Applying offset returns letter J\n",
      "\n",
      "Coming into rotor II at position B (1) and ring settings 0 | Offset 1\n",
      "Input letter index is 9. Adjusted index 10 tranforms input letter in K\n",
      "Input letter K holds rotorIndex 3\n",
      "Corresponding to genericMappingLetter D\n",
      "Applying offset returns letter C\n",
      "\n",
      "Coming into rotor III at position F (5) and ring settings 0 | Offset 5\n",
      "Input letter index is 2. Adjusted index 7 tranforms input letter in H\n",
      "Input letter H holds rotorIndex 3\n",
      "Corresponding to genericMappingLetter D\n",
      "Applying offset returns letter Y\n",
      "\n",
      "Encoded input so far: SNZ\n",
      "\n",
      "SNZ\n"
     ]
    }
   ],
   "source": [
    "# Including 12 PlugLeads\n",
    "enigmaMachine = EnigmaMachine()\n",
    "enigmaMachine.setup(rotors=[['RotorVI',1,'A',1],['RotorII',1,'B',2],['RotorIII',1,'C',3]],\n",
    "                    reflector='ReflectorB',plugleads='KL MN OP QR ST UV YZ')\n",
    "\n",
    "print(enigmaMachine.serialEncode('PRT', printStatusFlag=True))"
   ]
  },
  {
   "cell_type": "markdown",
   "metadata": {},
   "source": [
    "### Some demonstrations of error handling"
   ]
  },
  {
   "cell_type": "markdown",
   "metadata": {},
   "source": [
    "#### Wrong input for Plugleads"
   ]
  },
  {
   "cell_type": "code",
   "execution_count": 11,
   "metadata": {},
   "outputs": [
    {
     "ename": "InputError",
     "evalue": "N - > [PlugLead] Input must cointain TWO letters.",
     "output_type": "error",
     "traceback": [
      "\u001b[0;31m---------------------------------------------------------------------------\u001b[0m",
      "\u001b[0;31mInputError\u001b[0m                                Traceback (most recent call last)",
      "\u001b[0;32m<ipython-input-11-eb1fedbfc5e4>\u001b[0m in \u001b[0;36m<module>\u001b[0;34m\u001b[0m\n\u001b[1;32m      1\u001b[0m \u001b[0menigmaMachine\u001b[0m \u001b[0;34m=\u001b[0m \u001b[0mEnigmaMachine\u001b[0m\u001b[0;34m(\u001b[0m\u001b[0;34m)\u001b[0m\u001b[0;34m\u001b[0m\u001b[0;34m\u001b[0m\u001b[0m\n\u001b[1;32m      2\u001b[0m enigmaMachine.setup(rotors=[['RotorVI',1,'A',1],['RotorII',1,'B',2],['RotorIII',1,'C',3]],\n\u001b[0;32m----> 3\u001b[0;31m                     reflector='ReflectorB',plugleads='KL N OP QR ST UV YZ')\n\u001b[0m",
      "\u001b[0;32m~/Documents/GitHub/bath_msc/01_PoP/enigma/enigma.py\u001b[0m in \u001b[0;36msetup\u001b[0;34m(self, rotors, reflector, plugleads, numPlugLeads)\u001b[0m\n\u001b[1;32m    375\u001b[0m \u001b[0;34m\u001b[0m\u001b[0m\n\u001b[1;32m    376\u001b[0m             \u001b[0;32mfor\u001b[0m \u001b[0mi\u001b[0m \u001b[0;32min\u001b[0m \u001b[0mplugleads\u001b[0m\u001b[0;34m:\u001b[0m\u001b[0;34m\u001b[0m\u001b[0;34m\u001b[0m\u001b[0m\n\u001b[0;32m--> 377\u001b[0;31m                 \u001b[0mself\u001b[0m\u001b[0;34m.\u001b[0m\u001b[0mplugBoard\u001b[0m\u001b[0;34m.\u001b[0m\u001b[0madd\u001b[0m\u001b[0;34m(\u001b[0m\u001b[0mPlugLead\u001b[0m\u001b[0;34m(\u001b[0m\u001b[0mi\u001b[0m\u001b[0;34m)\u001b[0m\u001b[0;34m)\u001b[0m\u001b[0;34m\u001b[0m\u001b[0;34m\u001b[0m\u001b[0m\n\u001b[0m\u001b[1;32m    378\u001b[0m \u001b[0;34m\u001b[0m\u001b[0m\n\u001b[1;32m    379\u001b[0m         validRotors = ['RotorI','RotorII','RotorIII','RotorIV','RotorV','RotorBeta',\\\n",
      "\u001b[0;32m~/Documents/GitHub/bath_msc/01_PoP/enigma/errorHandling.py\u001b[0m in \u001b[0;36mcleaning_function\u001b[0;34m(selfObject, currentInput, *args, **kwargs)\u001b[0m\n\u001b[1;32m     73\u001b[0m \u001b[0;34m\u001b[0m\u001b[0m\n\u001b[1;32m     74\u001b[0m                     \u001b[0;32mif\u001b[0m \u001b[0mamountLettersClean\u001b[0m \u001b[0;34m!=\u001b[0m \u001b[0;36m2\u001b[0m\u001b[0;34m:\u001b[0m\u001b[0;34m\u001b[0m\u001b[0;34m\u001b[0m\u001b[0m\n\u001b[0;32m---> 75\u001b[0;31m                         \u001b[0;32mraise\u001b[0m \u001b[0mInputError\u001b[0m\u001b[0;34m(\u001b[0m\u001b[0mcurrentInput\u001b[0m\u001b[0;34m,\u001b[0m \u001b[0mmessage\u001b[0m\u001b[0;34m=\u001b[0m\u001b[0;34m\"[{0}] Input must cointain TWO letters.\"\u001b[0m\u001b[0;34m.\u001b[0m\u001b[0mformat\u001b[0m\u001b[0;34m(\u001b[0m\u001b[0melement\u001b[0m\u001b[0;34m)\u001b[0m\u001b[0;34m)\u001b[0m\u001b[0;34m\u001b[0m\u001b[0;34m\u001b[0m\u001b[0m\n\u001b[0m\u001b[1;32m     76\u001b[0m \u001b[0;34m\u001b[0m\u001b[0m\n\u001b[1;32m     77\u001b[0m                     \u001b[0;32melif\u001b[0m \u001b[0mlettersClean\u001b[0m\u001b[0;34m[\u001b[0m\u001b[0;36m0\u001b[0m\u001b[0;34m]\u001b[0m \u001b[0;34m==\u001b[0m \u001b[0mlettersClean\u001b[0m\u001b[0;34m[\u001b[0m\u001b[0;36m1\u001b[0m\u001b[0;34m]\u001b[0m\u001b[0;34m:\u001b[0m\u001b[0;34m\u001b[0m\u001b[0;34m\u001b[0m\u001b[0m\n",
      "\u001b[0;31mInputError\u001b[0m: N - > [PlugLead] Input must cointain TWO letters."
     ]
    }
   ],
   "source": [
    "enigmaMachine = EnigmaMachine()\n",
    "enigmaMachine.setup(rotors=[['RotorVI',1,'A',1],['RotorII',1,'B',2],['RotorIII',1,'C',3]],\n",
    "                    reflector='ReflectorB',plugleads='KL N OP QR ST UV YZ')"
   ]
  },
  {
   "cell_type": "code",
   "execution_count": 12,
   "metadata": {},
   "outputs": [
    {
     "ename": "InputError",
     "evalue": "O% - > [PlugLead] Input can only take letters [a-zA-Z].",
     "output_type": "error",
     "traceback": [
      "\u001b[0;31m---------------------------------------------------------------------------\u001b[0m",
      "\u001b[0;31mInputError\u001b[0m                                Traceback (most recent call last)",
      "\u001b[0;32m<ipython-input-12-ab167ef2b7eb>\u001b[0m in \u001b[0;36m<module>\u001b[0;34m\u001b[0m\n\u001b[1;32m      1\u001b[0m \u001b[0menigmaMachine\u001b[0m \u001b[0;34m=\u001b[0m \u001b[0mEnigmaMachine\u001b[0m\u001b[0;34m(\u001b[0m\u001b[0;34m)\u001b[0m\u001b[0;34m\u001b[0m\u001b[0;34m\u001b[0m\u001b[0m\n\u001b[1;32m      2\u001b[0m enigmaMachine.setup(rotors=[['RotorVI',1,'A',1],['RotorII',1,'B',2],['RotorIII',1,'C',3]],\n\u001b[0;32m----> 3\u001b[0;31m                     reflector='ReflectorB',plugleads='KL NA O% QR ST UV YZ')\n\u001b[0m",
      "\u001b[0;32m~/Documents/GitHub/bath_msc/01_PoP/enigma/enigma.py\u001b[0m in \u001b[0;36msetup\u001b[0;34m(self, rotors, reflector, plugleads, numPlugLeads)\u001b[0m\n\u001b[1;32m    375\u001b[0m \u001b[0;34m\u001b[0m\u001b[0m\n\u001b[1;32m    376\u001b[0m             \u001b[0;32mfor\u001b[0m \u001b[0mi\u001b[0m \u001b[0;32min\u001b[0m \u001b[0mplugleads\u001b[0m\u001b[0;34m:\u001b[0m\u001b[0;34m\u001b[0m\u001b[0;34m\u001b[0m\u001b[0m\n\u001b[0;32m--> 377\u001b[0;31m                 \u001b[0mself\u001b[0m\u001b[0;34m.\u001b[0m\u001b[0mplugBoard\u001b[0m\u001b[0;34m.\u001b[0m\u001b[0madd\u001b[0m\u001b[0;34m(\u001b[0m\u001b[0mPlugLead\u001b[0m\u001b[0;34m(\u001b[0m\u001b[0mi\u001b[0m\u001b[0;34m)\u001b[0m\u001b[0;34m)\u001b[0m\u001b[0;34m\u001b[0m\u001b[0;34m\u001b[0m\u001b[0m\n\u001b[0m\u001b[1;32m    378\u001b[0m \u001b[0;34m\u001b[0m\u001b[0m\n\u001b[1;32m    379\u001b[0m         validRotors = ['RotorI','RotorII','RotorIII','RotorIV','RotorV','RotorBeta',\\\n",
      "\u001b[0;32m~/Documents/GitHub/bath_msc/01_PoP/enigma/errorHandling.py\u001b[0m in \u001b[0;36mcleaning_function\u001b[0;34m(selfObject, currentInput, *args, **kwargs)\u001b[0m\n\u001b[1;32m     68\u001b[0m \u001b[0;34m\u001b[0m\u001b[0m\n\u001b[1;32m     69\u001b[0m                 \u001b[0;32mif\u001b[0m \u001b[0mamountLettersInput\u001b[0m \u001b[0;34m>\u001b[0m \u001b[0mamountLettersClean\u001b[0m\u001b[0;34m:\u001b[0m\u001b[0;34m\u001b[0m\u001b[0;34m\u001b[0m\u001b[0m\n\u001b[0;32m---> 70\u001b[0;31m                     \u001b[0;32mraise\u001b[0m \u001b[0mInputError\u001b[0m\u001b[0;34m(\u001b[0m\u001b[0mcurrentInput\u001b[0m\u001b[0;34m,\u001b[0m \u001b[0mmessage\u001b[0m\u001b[0;34m=\u001b[0m\u001b[0;34m\"[{0}] Input can only take letters [a-zA-Z].\"\u001b[0m\u001b[0;34m.\u001b[0m\u001b[0mformat\u001b[0m\u001b[0;34m(\u001b[0m\u001b[0melement\u001b[0m\u001b[0;34m)\u001b[0m\u001b[0;34m)\u001b[0m\u001b[0;34m\u001b[0m\u001b[0;34m\u001b[0m\u001b[0m\n\u001b[0m\u001b[1;32m     71\u001b[0m \u001b[0;34m\u001b[0m\u001b[0m\n\u001b[1;32m     72\u001b[0m                 \u001b[0;32mif\u001b[0m \u001b[0mcomponent\u001b[0m \u001b[0;32min\u001b[0m \u001b[0;34m'inputElement'\u001b[0m\u001b[0;34m:\u001b[0m\u001b[0;34m\u001b[0m\u001b[0;34m\u001b[0m\u001b[0m\n",
      "\u001b[0;31mInputError\u001b[0m: O% - > [PlugLead] Input can only take letters [a-zA-Z]."
     ]
    }
   ],
   "source": [
    "enigmaMachine = EnigmaMachine()\n",
    "enigmaMachine.setup(rotors=[['RotorVI',1,'A',1],['RotorII',1,'B',2],['RotorIII',1,'C',3]],\n",
    "                    reflector='ReflectorB',plugleads='KL NA O% QR ST UV YZ')"
   ]
  },
  {
   "cell_type": "markdown",
   "metadata": {},
   "source": [
    "#### More than 10 PlugLeads (default max number)"
   ]
  },
  {
   "cell_type": "code",
   "execution_count": 13,
   "metadata": {},
   "outputs": [
    {
     "ename": "PlugboardError",
     "evalue": "UV - > Cannot add. Max number of PlugLeads has been reached (10).",
     "output_type": "error",
     "traceback": [
      "\u001b[0;31m---------------------------------------------------------------------------\u001b[0m",
      "\u001b[0;31mPlugboardError\u001b[0m                            Traceback (most recent call last)",
      "\u001b[0;32m<ipython-input-13-da00d28e0cf2>\u001b[0m in \u001b[0;36m<module>\u001b[0;34m\u001b[0m\n\u001b[1;32m      1\u001b[0m \u001b[0menigmaMachine\u001b[0m \u001b[0;34m=\u001b[0m \u001b[0mEnigmaMachine\u001b[0m\u001b[0;34m(\u001b[0m\u001b[0;34m)\u001b[0m\u001b[0;34m\u001b[0m\u001b[0;34m\u001b[0m\u001b[0m\n\u001b[1;32m      2\u001b[0m enigmaMachine.setup(rotors=[['RotorVI',1,'A',1],['RotorII',1,'B',2],['RotorIII',1,'C',3]],\n\u001b[0;32m----> 3\u001b[0;31m                     reflector='ReflectorB',plugleads='AB CD EF GH IJ KL MN OP QR ST UV YZ')\n\u001b[0m",
      "\u001b[0;32m~/Documents/GitHub/bath_msc/01_PoP/enigma/enigma.py\u001b[0m in \u001b[0;36msetup\u001b[0;34m(self, rotors, reflector, plugleads, numPlugLeads)\u001b[0m\n\u001b[1;32m    375\u001b[0m \u001b[0;34m\u001b[0m\u001b[0m\n\u001b[1;32m    376\u001b[0m             \u001b[0;32mfor\u001b[0m \u001b[0mi\u001b[0m \u001b[0;32min\u001b[0m \u001b[0mplugleads\u001b[0m\u001b[0;34m:\u001b[0m\u001b[0;34m\u001b[0m\u001b[0;34m\u001b[0m\u001b[0m\n\u001b[0;32m--> 377\u001b[0;31m                 \u001b[0mself\u001b[0m\u001b[0;34m.\u001b[0m\u001b[0mplugBoard\u001b[0m\u001b[0;34m.\u001b[0m\u001b[0madd\u001b[0m\u001b[0;34m(\u001b[0m\u001b[0mPlugLead\u001b[0m\u001b[0;34m(\u001b[0m\u001b[0mi\u001b[0m\u001b[0;34m)\u001b[0m\u001b[0;34m)\u001b[0m\u001b[0;34m\u001b[0m\u001b[0;34m\u001b[0m\u001b[0m\n\u001b[0m\u001b[1;32m    378\u001b[0m \u001b[0;34m\u001b[0m\u001b[0m\n\u001b[1;32m    379\u001b[0m         validRotors = ['RotorI','RotorII','RotorIII','RotorIV','RotorV','RotorBeta',\\\n",
      "\u001b[0;32m~/Documents/GitHub/bath_msc/01_PoP/enigma/enigma.py\u001b[0m in \u001b[0;36madd\u001b[0;34m(self, PlugLead)\u001b[0m\n\u001b[1;32m     95\u001b[0m         \u001b[0;32mif\u001b[0m \u001b[0mlen\u001b[0m\u001b[0;34m(\u001b[0m\u001b[0mself\u001b[0m\u001b[0;34m.\u001b[0m\u001b[0mplugLeads\u001b[0m\u001b[0;34m)\u001b[0m \u001b[0;34m==\u001b[0m \u001b[0mself\u001b[0m\u001b[0;34m.\u001b[0m\u001b[0mnumPlugLeads\u001b[0m\u001b[0;34m:\u001b[0m\u001b[0;34m\u001b[0m\u001b[0;34m\u001b[0m\u001b[0m\n\u001b[1;32m     96\u001b[0m             \u001b[0merrorMessage\u001b[0m \u001b[0;34m=\u001b[0m \u001b[0;34m'Cannot add. Max number of PlugLeads has been reached ({}).'\u001b[0m\u001b[0;34m.\u001b[0m\u001b[0mformat\u001b[0m\u001b[0;34m(\u001b[0m\u001b[0mself\u001b[0m\u001b[0;34m.\u001b[0m\u001b[0mnumPlugLeads\u001b[0m\u001b[0;34m)\u001b[0m\u001b[0;34m\u001b[0m\u001b[0;34m\u001b[0m\u001b[0m\n\u001b[0;32m---> 97\u001b[0;31m             \u001b[0;32mraise\u001b[0m \u001b[0mPlugboardError\u001b[0m\u001b[0;34m(\u001b[0m\u001b[0;34m''\u001b[0m\u001b[0;34m.\u001b[0m\u001b[0mjoin\u001b[0m\u001b[0;34m(\u001b[0m\u001b[0;34m[\u001b[0m\u001b[0mx\u001b[0m\u001b[0;34m.\u001b[0m\u001b[0mupper\u001b[0m\u001b[0;34m(\u001b[0m\u001b[0;34m)\u001b[0m \u001b[0;32mfor\u001b[0m \u001b[0mx\u001b[0m \u001b[0;32min\u001b[0m \u001b[0mPlugLead\u001b[0m\u001b[0;34m.\u001b[0m\u001b[0mlettersList\u001b[0m\u001b[0;34m]\u001b[0m\u001b[0;34m)\u001b[0m\u001b[0;34m,\u001b[0m\u001b[0merrorMessage\u001b[0m\u001b[0;34m)\u001b[0m\u001b[0;34m\u001b[0m\u001b[0;34m\u001b[0m\u001b[0m\n\u001b[0m\u001b[1;32m     98\u001b[0m \u001b[0;34m\u001b[0m\u001b[0m\n\u001b[1;32m     99\u001b[0m         \u001b[0;32mfor\u001b[0m \u001b[0mx\u001b[0m \u001b[0;32min\u001b[0m \u001b[0mPlugLead\u001b[0m\u001b[0;34m.\u001b[0m\u001b[0mlettersList\u001b[0m\u001b[0;34m:\u001b[0m\u001b[0;34m\u001b[0m\u001b[0;34m\u001b[0m\u001b[0m\n",
      "\u001b[0;31mPlugboardError\u001b[0m: UV - > Cannot add. Max number of PlugLeads has been reached (10)."
     ]
    }
   ],
   "source": [
    "enigmaMachine = EnigmaMachine()\n",
    "enigmaMachine.setup(rotors=[['RotorVI',1,'A',1],['RotorII',1,'B',2],['RotorIII',1,'C',3]],\n",
    "                    reflector='ReflectorB',plugleads='AB CD EF GH IJ KL MN OP QR ST UV YZ')"
   ]
  },
  {
   "cell_type": "markdown",
   "metadata": {},
   "source": [
    "#### Repeating letters within the PlugLeads"
   ]
  },
  {
   "cell_type": "code",
   "execution_count": 14,
   "metadata": {},
   "outputs": [
    {
     "ename": "PlugboardError",
     "evalue": "B - > Already assigned to another PlugLead.Please restart your Enigma Machine for including it.",
     "output_type": "error",
     "traceback": [
      "\u001b[0;31m---------------------------------------------------------------------------\u001b[0m",
      "\u001b[0;31mPlugboardError\u001b[0m                            Traceback (most recent call last)",
      "\u001b[0;32m<ipython-input-14-71298cd52820>\u001b[0m in \u001b[0;36m<module>\u001b[0;34m\u001b[0m\n\u001b[1;32m      1\u001b[0m \u001b[0menigmaMachine\u001b[0m \u001b[0;34m=\u001b[0m \u001b[0mEnigmaMachine\u001b[0m\u001b[0;34m(\u001b[0m\u001b[0;34m)\u001b[0m\u001b[0;34m\u001b[0m\u001b[0;34m\u001b[0m\u001b[0m\n\u001b[1;32m      2\u001b[0m enigmaMachine.setup(rotors=[['RotorVI',1,'A',1],['RotorII',1,'B',2],['RotorIII',1,'C',3]],\n\u001b[0;32m----> 3\u001b[0;31m                     reflector='ReflectorB',plugleads='AB BD EF GH IJ KL MN OP QR ST UV YZ')\n\u001b[0m",
      "\u001b[0;32m~/Documents/GitHub/bath_msc/01_PoP/enigma/enigma.py\u001b[0m in \u001b[0;36msetup\u001b[0;34m(self, rotors, reflector, plugleads, numPlugLeads)\u001b[0m\n\u001b[1;32m    375\u001b[0m \u001b[0;34m\u001b[0m\u001b[0m\n\u001b[1;32m    376\u001b[0m             \u001b[0;32mfor\u001b[0m \u001b[0mi\u001b[0m \u001b[0;32min\u001b[0m \u001b[0mplugleads\u001b[0m\u001b[0;34m:\u001b[0m\u001b[0;34m\u001b[0m\u001b[0;34m\u001b[0m\u001b[0m\n\u001b[0;32m--> 377\u001b[0;31m                 \u001b[0mself\u001b[0m\u001b[0;34m.\u001b[0m\u001b[0mplugBoard\u001b[0m\u001b[0;34m.\u001b[0m\u001b[0madd\u001b[0m\u001b[0;34m(\u001b[0m\u001b[0mPlugLead\u001b[0m\u001b[0;34m(\u001b[0m\u001b[0mi\u001b[0m\u001b[0;34m)\u001b[0m\u001b[0;34m)\u001b[0m\u001b[0;34m\u001b[0m\u001b[0;34m\u001b[0m\u001b[0m\n\u001b[0m\u001b[1;32m    378\u001b[0m \u001b[0;34m\u001b[0m\u001b[0m\n\u001b[1;32m    379\u001b[0m         validRotors = ['RotorI','RotorII','RotorIII','RotorIV','RotorV','RotorBeta',\\\n",
      "\u001b[0;32m~/Documents/GitHub/bath_msc/01_PoP/enigma/enigma.py\u001b[0m in \u001b[0;36madd\u001b[0;34m(self, PlugLead)\u001b[0m\n\u001b[1;32m    102\u001b[0m                 \u001b[0merrorMessage\u001b[0m \u001b[0;34m=\u001b[0m \u001b[0;34m'Already assigned to another PlugLead.'\u001b[0m\u001b[0;34m+\u001b[0m\u001b[0;31m\\\u001b[0m\u001b[0;34m\u001b[0m\u001b[0;34m\u001b[0m\u001b[0m\n\u001b[1;32m    103\u001b[0m                 \u001b[0;34m'Please restart your Enigma Machine for including it.'\u001b[0m\u001b[0;34m\u001b[0m\u001b[0;34m\u001b[0m\u001b[0m\n\u001b[0;32m--> 104\u001b[0;31m                 \u001b[0;32mraise\u001b[0m \u001b[0mPlugboardError\u001b[0m\u001b[0;34m(\u001b[0m\u001b[0mx\u001b[0m\u001b[0;34m.\u001b[0m\u001b[0mupper\u001b[0m\u001b[0;34m(\u001b[0m\u001b[0;34m)\u001b[0m\u001b[0;34m,\u001b[0m \u001b[0merrorMessage\u001b[0m\u001b[0;34m)\u001b[0m\u001b[0;34m\u001b[0m\u001b[0;34m\u001b[0m\u001b[0m\n\u001b[0m\u001b[1;32m    105\u001b[0m \u001b[0;34m\u001b[0m\u001b[0m\n\u001b[1;32m    106\u001b[0m             \u001b[0;32melse\u001b[0m\u001b[0;34m:\u001b[0m\u001b[0;34m\u001b[0m\u001b[0;34m\u001b[0m\u001b[0m\n",
      "\u001b[0;31mPlugboardError\u001b[0m: B - > Already assigned to another PlugLead.Please restart your Enigma Machine for including it."
     ]
    }
   ],
   "source": [
    "enigmaMachine = EnigmaMachine()\n",
    "enigmaMachine.setup(rotors=[['RotorVI',1,'A',1],['RotorII',1,'B',2],['RotorIII',1,'C',3]],\n",
    "                    reflector='ReflectorB',plugleads='AB BD EF GH IJ KL MN OP QR ST UV YZ')"
   ]
  },
  {
   "cell_type": "markdown",
   "metadata": {},
   "source": [
    "#### Invalid Initial Position"
   ]
  },
  {
   "cell_type": "code",
   "execution_count": 15,
   "metadata": {},
   "outputs": [
    {
     "ename": "InputError",
     "evalue": "JJ - > [Initial Position] Input must cointain ONE letter.",
     "output_type": "error",
     "traceback": [
      "\u001b[0;31m---------------------------------------------------------------------------\u001b[0m",
      "\u001b[0;31mInputError\u001b[0m                                Traceback (most recent call last)",
      "\u001b[0;32m<ipython-input-15-623ba5da647e>\u001b[0m in \u001b[0;36m<module>\u001b[0;34m\u001b[0m\n\u001b[1;32m      1\u001b[0m \u001b[0menigmaMachine\u001b[0m \u001b[0;34m=\u001b[0m \u001b[0mEnigmaMachine\u001b[0m\u001b[0;34m(\u001b[0m\u001b[0;34m)\u001b[0m\u001b[0;34m\u001b[0m\u001b[0;34m\u001b[0m\u001b[0m\n\u001b[1;32m      2\u001b[0m enigmaMachine.setup(rotors=[['RotorVI',1,'JJ',1],['RotorII',1,'B',2],['RotorIII',1,'C',3]],\n\u001b[0;32m----> 3\u001b[0;31m                     reflector='ReflectorB',plugleads='AB EF GH IJ KL MN OP QR')\n\u001b[0m",
      "\u001b[0;32m~/Documents/GitHub/bath_msc/01_PoP/enigma/enigma.py\u001b[0m in \u001b[0;36msetup\u001b[0;34m(self, rotors, reflector, plugleads, numPlugLeads)\u001b[0m\n\u001b[1;32m    404\u001b[0m                     \u001b[0;32melse\u001b[0m\u001b[0;34m:\u001b[0m\u001b[0;34m\u001b[0m\u001b[0;34m\u001b[0m\u001b[0m\n\u001b[1;32m    405\u001b[0m                         \u001b[0;32mif\u001b[0m \u001b[0mlen\u001b[0m\u001b[0;34m(\u001b[0m\u001b[0mi\u001b[0m\u001b[0;34m)\u001b[0m \u001b[0;34m==\u001b[0m \u001b[0;36m4\u001b[0m\u001b[0;34m:\u001b[0m\u001b[0;34m\u001b[0m\u001b[0;34m\u001b[0m\u001b[0m\n\u001b[0;32m--> 406\u001b[0;31m                             \u001b[0mrotor\u001b[0m \u001b[0;34m=\u001b[0m \u001b[0mglobals\u001b[0m\u001b[0;34m(\u001b[0m\u001b[0;34m)\u001b[0m\u001b[0;34m[\u001b[0m\u001b[0mi\u001b[0m\u001b[0;34m[\u001b[0m\u001b[0;36m0\u001b[0m\u001b[0;34m]\u001b[0m\u001b[0;34m]\u001b[0m\u001b[0;34m(\u001b[0m\u001b[0mi\u001b[0m\u001b[0;34m[\u001b[0m\u001b[0;36m1\u001b[0m\u001b[0;34m]\u001b[0m\u001b[0;34m,\u001b[0m\u001b[0mi\u001b[0m\u001b[0;34m[\u001b[0m\u001b[0;36m2\u001b[0m\u001b[0;34m]\u001b[0m\u001b[0;34m)\u001b[0m\u001b[0;34m\u001b[0m\u001b[0;34m\u001b[0m\u001b[0m\n\u001b[0m\u001b[1;32m    407\u001b[0m                             \u001b[0mself\u001b[0m\u001b[0;34m.\u001b[0m\u001b[0maddRotor\u001b[0m\u001b[0;34m(\u001b[0m\u001b[0mrotor\u001b[0m\u001b[0;34m,\u001b[0m\u001b[0mi\u001b[0m\u001b[0;34m[\u001b[0m\u001b[0;36m3\u001b[0m\u001b[0;34m]\u001b[0m\u001b[0;34m)\u001b[0m\u001b[0;34m\u001b[0m\u001b[0;34m\u001b[0m\u001b[0m\n\u001b[1;32m    408\u001b[0m                         \u001b[0;32melse\u001b[0m\u001b[0;34m:\u001b[0m\u001b[0;34m\u001b[0m\u001b[0;34m\u001b[0m\u001b[0m\n",
      "\u001b[0;32m~/Documents/GitHub/bath_msc/01_PoP/enigma/enigma.py\u001b[0m in \u001b[0;36m__init__\u001b[0;34m(self, ringSetting, initialPos)\u001b[0m\n\u001b[1;32m    619\u001b[0m     \"\"\"\n\u001b[1;32m    620\u001b[0m     \u001b[0;32mdef\u001b[0m \u001b[0m__init__\u001b[0m\u001b[0;34m(\u001b[0m\u001b[0mself\u001b[0m\u001b[0;34m,\u001b[0m \u001b[0mringSetting\u001b[0m\u001b[0;34m,\u001b[0m \u001b[0minitialPos\u001b[0m\u001b[0;34m)\u001b[0m\u001b[0;34m:\u001b[0m\u001b[0;34m\u001b[0m\u001b[0;34m\u001b[0m\u001b[0m\n\u001b[0;32m--> 621\u001b[0;31m         \u001b[0msuper\u001b[0m\u001b[0;34m(\u001b[0m\u001b[0;34m)\u001b[0m\u001b[0;34m.\u001b[0m\u001b[0m__init__\u001b[0m\u001b[0;34m(\u001b[0m\u001b[0mringSetting\u001b[0m\u001b[0;34m,\u001b[0m \u001b[0minitialPos\u001b[0m\u001b[0;34m,\u001b[0m \u001b[0mrotorType\u001b[0m\u001b[0;34m=\u001b[0m\u001b[0;34m'notchrotor'\u001b[0m\u001b[0;34m,\u001b[0m \u001b[0mname\u001b[0m\u001b[0;34m=\u001b[0m\u001b[0;34m'VI'\u001b[0m\u001b[0;34m)\u001b[0m\u001b[0;34m\u001b[0m\u001b[0;34m\u001b[0m\u001b[0m\n\u001b[0m\u001b[1;32m    622\u001b[0m         \u001b[0mself\u001b[0m\u001b[0;34m.\u001b[0m\u001b[0mnotch\u001b[0m \u001b[0;34m=\u001b[0m \u001b[0;34m[\u001b[0m\u001b[0;34m'Z'\u001b[0m\u001b[0;34m,\u001b[0m\u001b[0;34m'M'\u001b[0m\u001b[0;34m]\u001b[0m\u001b[0;34m\u001b[0m\u001b[0;34m\u001b[0m\u001b[0m\n\u001b[1;32m    623\u001b[0m         \u001b[0mself\u001b[0m\u001b[0;34m.\u001b[0m\u001b[0mmapping\u001b[0m \u001b[0;34m=\u001b[0m \u001b[0;34m[\u001b[0m\u001b[0mx\u001b[0m \u001b[0;32mfor\u001b[0m \u001b[0mx\u001b[0m \u001b[0;32min\u001b[0m \u001b[0;34m'JPGVOUMFYQBENHZRDKASXLICTW'\u001b[0m\u001b[0;34m]\u001b[0m\u001b[0;34m\u001b[0m\u001b[0;34m\u001b[0m\u001b[0m\n",
      "\u001b[0;32m~/Documents/GitHub/bath_msc/01_PoP/enigma/enigma.py\u001b[0m in \u001b[0;36m__init__\u001b[0;34m(self, ringSetting, initialPos, rotorType, name)\u001b[0m\n\u001b[1;32m    459\u001b[0m         \u001b[0;32melse\u001b[0m\u001b[0;34m:\u001b[0m\u001b[0;34m\u001b[0m\u001b[0;34m\u001b[0m\u001b[0m\n\u001b[1;32m    460\u001b[0m             \u001b[0mself\u001b[0m\u001b[0;34m.\u001b[0m\u001b[0mringSetting\u001b[0m \u001b[0;34m=\u001b[0m \u001b[0mself\u001b[0m\u001b[0;34m.\u001b[0m\u001b[0mset_ring_setting\u001b[0m\u001b[0;34m(\u001b[0m\u001b[0mringSetting\u001b[0m\u001b[0;34m)\u001b[0m\u001b[0;34m\u001b[0m\u001b[0;34m\u001b[0m\u001b[0m\n\u001b[0;32m--> 461\u001b[0;31m             \u001b[0mself\u001b[0m\u001b[0;34m.\u001b[0m\u001b[0minitialPos\u001b[0m \u001b[0;34m=\u001b[0m \u001b[0mself\u001b[0m\u001b[0;34m.\u001b[0m\u001b[0mset_initial_pos\u001b[0m\u001b[0;34m(\u001b[0m\u001b[0minitialPos\u001b[0m\u001b[0;34m)\u001b[0m\u001b[0;34m\u001b[0m\u001b[0;34m\u001b[0m\u001b[0m\n\u001b[0m\u001b[1;32m    462\u001b[0m             \u001b[0mself\u001b[0m\u001b[0;34m.\u001b[0m\u001b[0mcurrentPos\u001b[0m \u001b[0;34m=\u001b[0m \u001b[0mself\u001b[0m\u001b[0;34m.\u001b[0m\u001b[0mset_initial_pos\u001b[0m\u001b[0;34m(\u001b[0m\u001b[0minitialPos\u001b[0m\u001b[0;34m)\u001b[0m\u001b[0;34m\u001b[0m\u001b[0;34m\u001b[0m\u001b[0m\n\u001b[1;32m    463\u001b[0m \u001b[0;34m\u001b[0m\u001b[0m\n",
      "\u001b[0;32m~/Documents/GitHub/bath_msc/01_PoP/enigma/errorHandling.py\u001b[0m in \u001b[0;36mcleaning_function\u001b[0;34m(selfObject, currentInput, *args, **kwargs)\u001b[0m\n\u001b[1;32m     81\u001b[0m \u001b[0;34m\u001b[0m\u001b[0m\n\u001b[1;32m     82\u001b[0m                     \u001b[0;32mif\u001b[0m \u001b[0mamountLettersClean\u001b[0m \u001b[0;34m!=\u001b[0m \u001b[0;36m1\u001b[0m\u001b[0;34m:\u001b[0m\u001b[0;34m\u001b[0m\u001b[0;34m\u001b[0m\u001b[0m\n\u001b[0;32m---> 83\u001b[0;31m                         \u001b[0;32mraise\u001b[0m \u001b[0mInputError\u001b[0m\u001b[0;34m(\u001b[0m\u001b[0mcurrentInput\u001b[0m\u001b[0;34m,\u001b[0m \u001b[0mmessage\u001b[0m\u001b[0;34m=\u001b[0m\u001b[0;34m\"[{0}] Input must cointain ONE letter.\"\u001b[0m\u001b[0;34m.\u001b[0m\u001b[0mformat\u001b[0m\u001b[0;34m(\u001b[0m\u001b[0melement\u001b[0m\u001b[0;34m)\u001b[0m\u001b[0;34m)\u001b[0m\u001b[0;34m\u001b[0m\u001b[0;34m\u001b[0m\u001b[0m\n\u001b[0m\u001b[1;32m     84\u001b[0m \u001b[0;34m\u001b[0m\u001b[0m\n\u001b[1;32m     85\u001b[0m                 \u001b[0;32mreturn\u001b[0m \u001b[0mfunction\u001b[0m\u001b[0;34m(\u001b[0m\u001b[0mselfObject\u001b[0m\u001b[0;34m,\u001b[0m\u001b[0mlettersClean\u001b[0m\u001b[0;34m.\u001b[0m\u001b[0mlower\u001b[0m\u001b[0;34m(\u001b[0m\u001b[0;34m)\u001b[0m\u001b[0;34m,\u001b[0m \u001b[0;34m*\u001b[0m\u001b[0margs\u001b[0m\u001b[0;34m,\u001b[0m \u001b[0;34m**\u001b[0m\u001b[0mkwargs\u001b[0m\u001b[0;34m)\u001b[0m\u001b[0;34m\u001b[0m\u001b[0;34m\u001b[0m\u001b[0m\n",
      "\u001b[0;31mInputError\u001b[0m: JJ - > [Initial Position] Input must cointain ONE letter."
     ]
    }
   ],
   "source": [
    "enigmaMachine = EnigmaMachine()\n",
    "enigmaMachine.setup(rotors=[['RotorVI',1,'JJ',1],['RotorII',1,'B',2],['RotorIII',1,'C',3]],\n",
    "                    reflector='ReflectorB',plugleads='AB EF GH IJ KL MN OP QR')"
   ]
  },
  {
   "cell_type": "code",
   "execution_count": 16,
   "metadata": {},
   "outputs": [
    {
     "ename": "InputError",
     "evalue": "% - > [Initial Position] Input can only take letters [a-zA-Z].",
     "output_type": "error",
     "traceback": [
      "\u001b[0;31m---------------------------------------------------------------------------\u001b[0m",
      "\u001b[0;31mInputError\u001b[0m                                Traceback (most recent call last)",
      "\u001b[0;32m<ipython-input-16-7e02bf068333>\u001b[0m in \u001b[0;36m<module>\u001b[0;34m\u001b[0m\n\u001b[1;32m      1\u001b[0m \u001b[0menigmaMachine\u001b[0m \u001b[0;34m=\u001b[0m \u001b[0mEnigmaMachine\u001b[0m\u001b[0;34m(\u001b[0m\u001b[0;34m)\u001b[0m\u001b[0;34m\u001b[0m\u001b[0;34m\u001b[0m\u001b[0m\n\u001b[1;32m      2\u001b[0m enigmaMachine.setup(rotors=[['RotorVI',1,'%',1],['RotorII',1,'B',2],['RotorIII',1,'C',3]],\n\u001b[0;32m----> 3\u001b[0;31m                     reflector='ReflectorB',plugleads='AB EF GH IJ KL MN OP QR')\n\u001b[0m",
      "\u001b[0;32m~/Documents/GitHub/bath_msc/01_PoP/enigma/enigma.py\u001b[0m in \u001b[0;36msetup\u001b[0;34m(self, rotors, reflector, plugleads, numPlugLeads)\u001b[0m\n\u001b[1;32m    404\u001b[0m                     \u001b[0;32melse\u001b[0m\u001b[0;34m:\u001b[0m\u001b[0;34m\u001b[0m\u001b[0;34m\u001b[0m\u001b[0m\n\u001b[1;32m    405\u001b[0m                         \u001b[0;32mif\u001b[0m \u001b[0mlen\u001b[0m\u001b[0;34m(\u001b[0m\u001b[0mi\u001b[0m\u001b[0;34m)\u001b[0m \u001b[0;34m==\u001b[0m \u001b[0;36m4\u001b[0m\u001b[0;34m:\u001b[0m\u001b[0;34m\u001b[0m\u001b[0;34m\u001b[0m\u001b[0m\n\u001b[0;32m--> 406\u001b[0;31m                             \u001b[0mrotor\u001b[0m \u001b[0;34m=\u001b[0m \u001b[0mglobals\u001b[0m\u001b[0;34m(\u001b[0m\u001b[0;34m)\u001b[0m\u001b[0;34m[\u001b[0m\u001b[0mi\u001b[0m\u001b[0;34m[\u001b[0m\u001b[0;36m0\u001b[0m\u001b[0;34m]\u001b[0m\u001b[0;34m]\u001b[0m\u001b[0;34m(\u001b[0m\u001b[0mi\u001b[0m\u001b[0;34m[\u001b[0m\u001b[0;36m1\u001b[0m\u001b[0;34m]\u001b[0m\u001b[0;34m,\u001b[0m\u001b[0mi\u001b[0m\u001b[0;34m[\u001b[0m\u001b[0;36m2\u001b[0m\u001b[0;34m]\u001b[0m\u001b[0;34m)\u001b[0m\u001b[0;34m\u001b[0m\u001b[0;34m\u001b[0m\u001b[0m\n\u001b[0m\u001b[1;32m    407\u001b[0m                             \u001b[0mself\u001b[0m\u001b[0;34m.\u001b[0m\u001b[0maddRotor\u001b[0m\u001b[0;34m(\u001b[0m\u001b[0mrotor\u001b[0m\u001b[0;34m,\u001b[0m\u001b[0mi\u001b[0m\u001b[0;34m[\u001b[0m\u001b[0;36m3\u001b[0m\u001b[0;34m]\u001b[0m\u001b[0;34m)\u001b[0m\u001b[0;34m\u001b[0m\u001b[0;34m\u001b[0m\u001b[0m\n\u001b[1;32m    408\u001b[0m                         \u001b[0;32melse\u001b[0m\u001b[0;34m:\u001b[0m\u001b[0;34m\u001b[0m\u001b[0;34m\u001b[0m\u001b[0m\n",
      "\u001b[0;32m~/Documents/GitHub/bath_msc/01_PoP/enigma/enigma.py\u001b[0m in \u001b[0;36m__init__\u001b[0;34m(self, ringSetting, initialPos)\u001b[0m\n\u001b[1;32m    619\u001b[0m     \"\"\"\n\u001b[1;32m    620\u001b[0m     \u001b[0;32mdef\u001b[0m \u001b[0m__init__\u001b[0m\u001b[0;34m(\u001b[0m\u001b[0mself\u001b[0m\u001b[0;34m,\u001b[0m \u001b[0mringSetting\u001b[0m\u001b[0;34m,\u001b[0m \u001b[0minitialPos\u001b[0m\u001b[0;34m)\u001b[0m\u001b[0;34m:\u001b[0m\u001b[0;34m\u001b[0m\u001b[0;34m\u001b[0m\u001b[0m\n\u001b[0;32m--> 621\u001b[0;31m         \u001b[0msuper\u001b[0m\u001b[0;34m(\u001b[0m\u001b[0;34m)\u001b[0m\u001b[0;34m.\u001b[0m\u001b[0m__init__\u001b[0m\u001b[0;34m(\u001b[0m\u001b[0mringSetting\u001b[0m\u001b[0;34m,\u001b[0m \u001b[0minitialPos\u001b[0m\u001b[0;34m,\u001b[0m \u001b[0mrotorType\u001b[0m\u001b[0;34m=\u001b[0m\u001b[0;34m'notchrotor'\u001b[0m\u001b[0;34m,\u001b[0m \u001b[0mname\u001b[0m\u001b[0;34m=\u001b[0m\u001b[0;34m'VI'\u001b[0m\u001b[0;34m)\u001b[0m\u001b[0;34m\u001b[0m\u001b[0;34m\u001b[0m\u001b[0m\n\u001b[0m\u001b[1;32m    622\u001b[0m         \u001b[0mself\u001b[0m\u001b[0;34m.\u001b[0m\u001b[0mnotch\u001b[0m \u001b[0;34m=\u001b[0m \u001b[0;34m[\u001b[0m\u001b[0;34m'Z'\u001b[0m\u001b[0;34m,\u001b[0m\u001b[0;34m'M'\u001b[0m\u001b[0;34m]\u001b[0m\u001b[0;34m\u001b[0m\u001b[0;34m\u001b[0m\u001b[0m\n\u001b[1;32m    623\u001b[0m         \u001b[0mself\u001b[0m\u001b[0;34m.\u001b[0m\u001b[0mmapping\u001b[0m \u001b[0;34m=\u001b[0m \u001b[0;34m[\u001b[0m\u001b[0mx\u001b[0m \u001b[0;32mfor\u001b[0m \u001b[0mx\u001b[0m \u001b[0;32min\u001b[0m \u001b[0;34m'JPGVOUMFYQBENHZRDKASXLICTW'\u001b[0m\u001b[0;34m]\u001b[0m\u001b[0;34m\u001b[0m\u001b[0;34m\u001b[0m\u001b[0m\n",
      "\u001b[0;32m~/Documents/GitHub/bath_msc/01_PoP/enigma/enigma.py\u001b[0m in \u001b[0;36m__init__\u001b[0;34m(self, ringSetting, initialPos, rotorType, name)\u001b[0m\n\u001b[1;32m    459\u001b[0m         \u001b[0;32melse\u001b[0m\u001b[0;34m:\u001b[0m\u001b[0;34m\u001b[0m\u001b[0;34m\u001b[0m\u001b[0m\n\u001b[1;32m    460\u001b[0m             \u001b[0mself\u001b[0m\u001b[0;34m.\u001b[0m\u001b[0mringSetting\u001b[0m \u001b[0;34m=\u001b[0m \u001b[0mself\u001b[0m\u001b[0;34m.\u001b[0m\u001b[0mset_ring_setting\u001b[0m\u001b[0;34m(\u001b[0m\u001b[0mringSetting\u001b[0m\u001b[0;34m)\u001b[0m\u001b[0;34m\u001b[0m\u001b[0;34m\u001b[0m\u001b[0m\n\u001b[0;32m--> 461\u001b[0;31m             \u001b[0mself\u001b[0m\u001b[0;34m.\u001b[0m\u001b[0minitialPos\u001b[0m \u001b[0;34m=\u001b[0m \u001b[0mself\u001b[0m\u001b[0;34m.\u001b[0m\u001b[0mset_initial_pos\u001b[0m\u001b[0;34m(\u001b[0m\u001b[0minitialPos\u001b[0m\u001b[0;34m)\u001b[0m\u001b[0;34m\u001b[0m\u001b[0;34m\u001b[0m\u001b[0m\n\u001b[0m\u001b[1;32m    462\u001b[0m             \u001b[0mself\u001b[0m\u001b[0;34m.\u001b[0m\u001b[0mcurrentPos\u001b[0m \u001b[0;34m=\u001b[0m \u001b[0mself\u001b[0m\u001b[0;34m.\u001b[0m\u001b[0mset_initial_pos\u001b[0m\u001b[0;34m(\u001b[0m\u001b[0minitialPos\u001b[0m\u001b[0;34m)\u001b[0m\u001b[0;34m\u001b[0m\u001b[0;34m\u001b[0m\u001b[0m\n\u001b[1;32m    463\u001b[0m \u001b[0;34m\u001b[0m\u001b[0m\n",
      "\u001b[0;32m~/Documents/GitHub/bath_msc/01_PoP/enigma/errorHandling.py\u001b[0m in \u001b[0;36mcleaning_function\u001b[0;34m(selfObject, currentInput, *args, **kwargs)\u001b[0m\n\u001b[1;32m     68\u001b[0m \u001b[0;34m\u001b[0m\u001b[0m\n\u001b[1;32m     69\u001b[0m                 \u001b[0;32mif\u001b[0m \u001b[0mamountLettersInput\u001b[0m \u001b[0;34m>\u001b[0m \u001b[0mamountLettersClean\u001b[0m\u001b[0;34m:\u001b[0m\u001b[0;34m\u001b[0m\u001b[0;34m\u001b[0m\u001b[0m\n\u001b[0;32m---> 70\u001b[0;31m                     \u001b[0;32mraise\u001b[0m \u001b[0mInputError\u001b[0m\u001b[0;34m(\u001b[0m\u001b[0mcurrentInput\u001b[0m\u001b[0;34m,\u001b[0m \u001b[0mmessage\u001b[0m\u001b[0;34m=\u001b[0m\u001b[0;34m\"[{0}] Input can only take letters [a-zA-Z].\"\u001b[0m\u001b[0;34m.\u001b[0m\u001b[0mformat\u001b[0m\u001b[0;34m(\u001b[0m\u001b[0melement\u001b[0m\u001b[0;34m)\u001b[0m\u001b[0;34m)\u001b[0m\u001b[0;34m\u001b[0m\u001b[0;34m\u001b[0m\u001b[0m\n\u001b[0m\u001b[1;32m     71\u001b[0m \u001b[0;34m\u001b[0m\u001b[0m\n\u001b[1;32m     72\u001b[0m                 \u001b[0;32mif\u001b[0m \u001b[0mcomponent\u001b[0m \u001b[0;32min\u001b[0m \u001b[0;34m'inputElement'\u001b[0m\u001b[0;34m:\u001b[0m\u001b[0;34m\u001b[0m\u001b[0;34m\u001b[0m\u001b[0m\n",
      "\u001b[0;31mInputError\u001b[0m: % - > [Initial Position] Input can only take letters [a-zA-Z]."
     ]
    }
   ],
   "source": [
    "enigmaMachine = EnigmaMachine()\n",
    "enigmaMachine.setup(rotors=[['RotorVI',1,'%',1],['RotorII',1,'B',2],['RotorIII',1,'C',3]],\n",
    "                    reflector='ReflectorB',plugleads='AB EF GH IJ KL MN OP QR')"
   ]
  },
  {
   "cell_type": "markdown",
   "metadata": {},
   "source": [
    "#### Invalid Ring Settings"
   ]
  },
  {
   "cell_type": "code",
   "execution_count": 15,
   "metadata": {},
   "outputs": [
    {
     "ename": "InputError",
     "evalue": "39 - > [Ring Settings] Input can only take numbers between 1-26.",
     "output_type": "error",
     "traceback": [
      "\u001b[0;31m---------------------------------------------------------------------------\u001b[0m",
      "\u001b[0;31mInputError\u001b[0m                                Traceback (most recent call last)",
      "\u001b[0;32m<ipython-input-15-6b14efca1494>\u001b[0m in \u001b[0;36m<module>\u001b[0;34m\u001b[0m\n\u001b[1;32m      1\u001b[0m \u001b[0menigmaMachine\u001b[0m \u001b[0;34m=\u001b[0m \u001b[0mEnigmaMachine\u001b[0m\u001b[0;34m(\u001b[0m\u001b[0;34m)\u001b[0m\u001b[0;34m\u001b[0m\u001b[0;34m\u001b[0m\u001b[0m\n\u001b[1;32m      2\u001b[0m enigmaMachine.setup(rotors=[['RotorVI',39,'G',1],['RotorII',1,'B',2],['RotorIII',1,'C',3]],\n\u001b[0;32m----> 3\u001b[0;31m                     reflector='ReflectorB',plugleads='AB EF GH IJ KL MN OP QR')\n\u001b[0m",
      "\u001b[0;32m~/Documents/GitHub/bath_msc/01_PoP/enigma/enigma.py\u001b[0m in \u001b[0;36msetup\u001b[0;34m(self, rotors, reflector, numPlugLeads, plugleads)\u001b[0m\n\u001b[1;32m    403\u001b[0m                     \u001b[0;32melse\u001b[0m\u001b[0;34m:\u001b[0m\u001b[0;34m\u001b[0m\u001b[0;34m\u001b[0m\u001b[0m\n\u001b[1;32m    404\u001b[0m                         \u001b[0;32mif\u001b[0m \u001b[0mlen\u001b[0m\u001b[0;34m(\u001b[0m\u001b[0mi\u001b[0m\u001b[0;34m)\u001b[0m \u001b[0;34m==\u001b[0m \u001b[0;36m4\u001b[0m\u001b[0;34m:\u001b[0m\u001b[0;34m\u001b[0m\u001b[0;34m\u001b[0m\u001b[0m\n\u001b[0;32m--> 405\u001b[0;31m                             \u001b[0mrotor\u001b[0m \u001b[0;34m=\u001b[0m \u001b[0mglobals\u001b[0m\u001b[0;34m(\u001b[0m\u001b[0;34m)\u001b[0m\u001b[0;34m[\u001b[0m\u001b[0mi\u001b[0m\u001b[0;34m[\u001b[0m\u001b[0;36m0\u001b[0m\u001b[0;34m]\u001b[0m\u001b[0;34m]\u001b[0m\u001b[0;34m(\u001b[0m\u001b[0mi\u001b[0m\u001b[0;34m[\u001b[0m\u001b[0;36m1\u001b[0m\u001b[0;34m]\u001b[0m\u001b[0;34m,\u001b[0m\u001b[0mi\u001b[0m\u001b[0;34m[\u001b[0m\u001b[0;36m2\u001b[0m\u001b[0;34m]\u001b[0m\u001b[0;34m)\u001b[0m\u001b[0;34m\u001b[0m\u001b[0;34m\u001b[0m\u001b[0m\n\u001b[0m\u001b[1;32m    406\u001b[0m                             \u001b[0mself\u001b[0m\u001b[0;34m.\u001b[0m\u001b[0maddRotor\u001b[0m\u001b[0;34m(\u001b[0m\u001b[0mrotor\u001b[0m\u001b[0;34m,\u001b[0m\u001b[0mi\u001b[0m\u001b[0;34m[\u001b[0m\u001b[0;36m3\u001b[0m\u001b[0;34m]\u001b[0m\u001b[0;34m)\u001b[0m\u001b[0;34m\u001b[0m\u001b[0;34m\u001b[0m\u001b[0m\n\u001b[1;32m    407\u001b[0m                         \u001b[0;32melse\u001b[0m\u001b[0;34m:\u001b[0m\u001b[0;34m\u001b[0m\u001b[0;34m\u001b[0m\u001b[0m\n",
      "\u001b[0;32m~/Documents/GitHub/bath_msc/01_PoP/enigma/enigma.py\u001b[0m in \u001b[0;36m__init__\u001b[0;34m(self, ringSetting, initialPos)\u001b[0m\n\u001b[1;32m    618\u001b[0m     \"\"\"\n\u001b[1;32m    619\u001b[0m     \u001b[0;32mdef\u001b[0m \u001b[0m__init__\u001b[0m\u001b[0;34m(\u001b[0m\u001b[0mself\u001b[0m\u001b[0;34m,\u001b[0m \u001b[0mringSetting\u001b[0m\u001b[0;34m,\u001b[0m \u001b[0minitialPos\u001b[0m\u001b[0;34m)\u001b[0m\u001b[0;34m:\u001b[0m\u001b[0;34m\u001b[0m\u001b[0;34m\u001b[0m\u001b[0m\n\u001b[0;32m--> 620\u001b[0;31m         \u001b[0msuper\u001b[0m\u001b[0;34m(\u001b[0m\u001b[0;34m)\u001b[0m\u001b[0;34m.\u001b[0m\u001b[0m__init__\u001b[0m\u001b[0;34m(\u001b[0m\u001b[0mringSetting\u001b[0m\u001b[0;34m,\u001b[0m \u001b[0minitialPos\u001b[0m\u001b[0;34m,\u001b[0m \u001b[0mrotorType\u001b[0m\u001b[0;34m=\u001b[0m\u001b[0;34m'notchrotor'\u001b[0m\u001b[0;34m,\u001b[0m \u001b[0mname\u001b[0m\u001b[0;34m=\u001b[0m\u001b[0;34m'VI'\u001b[0m\u001b[0;34m)\u001b[0m\u001b[0;34m\u001b[0m\u001b[0;34m\u001b[0m\u001b[0m\n\u001b[0m\u001b[1;32m    621\u001b[0m         \u001b[0mself\u001b[0m\u001b[0;34m.\u001b[0m\u001b[0mnotch\u001b[0m \u001b[0;34m=\u001b[0m \u001b[0;34m[\u001b[0m\u001b[0;34m'Z'\u001b[0m\u001b[0;34m,\u001b[0m\u001b[0;34m'M'\u001b[0m\u001b[0;34m]\u001b[0m\u001b[0;34m\u001b[0m\u001b[0;34m\u001b[0m\u001b[0m\n\u001b[1;32m    622\u001b[0m         \u001b[0mself\u001b[0m\u001b[0;34m.\u001b[0m\u001b[0mmapping\u001b[0m \u001b[0;34m=\u001b[0m \u001b[0;34m[\u001b[0m\u001b[0mx\u001b[0m \u001b[0;32mfor\u001b[0m \u001b[0mx\u001b[0m \u001b[0;32min\u001b[0m \u001b[0;34m'JPGVOUMFYQBENHZRDKASXLICTW'\u001b[0m\u001b[0;34m]\u001b[0m\u001b[0;34m\u001b[0m\u001b[0;34m\u001b[0m\u001b[0m\n",
      "\u001b[0;32m~/Documents/GitHub/bath_msc/01_PoP/enigma/enigma.py\u001b[0m in \u001b[0;36m__init__\u001b[0;34m(self, ringSetting, initialPos, rotorType, name)\u001b[0m\n\u001b[1;32m    457\u001b[0m \u001b[0;34m\u001b[0m\u001b[0m\n\u001b[1;32m    458\u001b[0m         \u001b[0;32melse\u001b[0m\u001b[0;34m:\u001b[0m\u001b[0;34m\u001b[0m\u001b[0;34m\u001b[0m\u001b[0m\n\u001b[0;32m--> 459\u001b[0;31m             \u001b[0mself\u001b[0m\u001b[0;34m.\u001b[0m\u001b[0mringSetting\u001b[0m \u001b[0;34m=\u001b[0m \u001b[0mself\u001b[0m\u001b[0;34m.\u001b[0m\u001b[0mset_ring_setting\u001b[0m\u001b[0;34m(\u001b[0m\u001b[0mringSetting\u001b[0m\u001b[0;34m)\u001b[0m\u001b[0;34m\u001b[0m\u001b[0;34m\u001b[0m\u001b[0m\n\u001b[0m\u001b[1;32m    460\u001b[0m             \u001b[0mself\u001b[0m\u001b[0;34m.\u001b[0m\u001b[0minitialPos\u001b[0m \u001b[0;34m=\u001b[0m \u001b[0mself\u001b[0m\u001b[0;34m.\u001b[0m\u001b[0mset_initial_pos\u001b[0m\u001b[0;34m(\u001b[0m\u001b[0minitialPos\u001b[0m\u001b[0;34m)\u001b[0m\u001b[0;34m\u001b[0m\u001b[0;34m\u001b[0m\u001b[0m\n\u001b[1;32m    461\u001b[0m             \u001b[0mself\u001b[0m\u001b[0;34m.\u001b[0m\u001b[0mcurrentPos\u001b[0m \u001b[0;34m=\u001b[0m \u001b[0mself\u001b[0m\u001b[0;34m.\u001b[0m\u001b[0mset_initial_pos\u001b[0m\u001b[0;34m(\u001b[0m\u001b[0minitialPos\u001b[0m\u001b[0;34m)\u001b[0m\u001b[0;34m\u001b[0m\u001b[0;34m\u001b[0m\u001b[0m\n",
      "\u001b[0;32m~/Documents/GitHub/bath_msc/01_PoP/enigma/errorHandling.py\u001b[0m in \u001b[0;36mcleaning_function\u001b[0;34m(selfObject, currentInput, *args, **kwargs)\u001b[0m\n\u001b[1;32m     91\u001b[0m \u001b[0;34m\u001b[0m\u001b[0m\n\u001b[1;32m     92\u001b[0m                 \u001b[0;32mif\u001b[0m \u001b[0minputClean\u001b[0m \u001b[0;34m<\u001b[0m \u001b[0;36m1\u001b[0m \u001b[0;32mor\u001b[0m \u001b[0minputClean\u001b[0m \u001b[0;34m>\u001b[0m \u001b[0;36m26\u001b[0m \u001b[0;32mor\u001b[0m \u001b[0mamountCharsInput\u001b[0m \u001b[0;34m>\u001b[0m \u001b[0mamountCharsClean\u001b[0m\u001b[0;34m:\u001b[0m\u001b[0;34m\u001b[0m\u001b[0;34m\u001b[0m\u001b[0m\n\u001b[0;32m---> 93\u001b[0;31m                     \u001b[0;32mraise\u001b[0m \u001b[0mInputError\u001b[0m\u001b[0;34m(\u001b[0m\u001b[0mcurrentInput\u001b[0m\u001b[0;34m,\u001b[0m \u001b[0mmessage\u001b[0m\u001b[0;34m=\u001b[0m\u001b[0;34m\"[{0}] Input can only take numbers between 1-26.\"\u001b[0m\u001b[0;34m.\u001b[0m\u001b[0mformat\u001b[0m\u001b[0;34m(\u001b[0m\u001b[0melement\u001b[0m\u001b[0;34m)\u001b[0m\u001b[0;34m)\u001b[0m\u001b[0;34m\u001b[0m\u001b[0;34m\u001b[0m\u001b[0m\n\u001b[0m\u001b[1;32m     94\u001b[0m \u001b[0;34m\u001b[0m\u001b[0m\n\u001b[1;32m     95\u001b[0m                 \u001b[0;32mreturn\u001b[0m \u001b[0mfunction\u001b[0m\u001b[0;34m(\u001b[0m\u001b[0mselfObject\u001b[0m\u001b[0;34m,\u001b[0m\u001b[0minputClean\u001b[0m\u001b[0;34m,\u001b[0m \u001b[0;34m*\u001b[0m\u001b[0margs\u001b[0m\u001b[0;34m,\u001b[0m \u001b[0;34m**\u001b[0m\u001b[0mkwargs\u001b[0m\u001b[0;34m)\u001b[0m\u001b[0;34m\u001b[0m\u001b[0;34m\u001b[0m\u001b[0m\n",
      "\u001b[0;31mInputError\u001b[0m: 39 - > [Ring Settings] Input can only take numbers between 1-26."
     ]
    }
   ],
   "source": [
    "enigmaMachine = EnigmaMachine()\n",
    "enigmaMachine.setup(rotors=[['RotorVI',39,'G',1],['RotorII',1,'B',2],['RotorIII',1,'C',3]],\n",
    "                    reflector='ReflectorB',plugleads='AB EF GH IJ KL MN OP QR')"
   ]
  },
  {
   "cell_type": "code",
   "execution_count": 16,
   "metadata": {},
   "outputs": [
    {
     "ename": "InputError",
     "evalue": "j - > [Ring Settings] Input can only take numbers between 1-26.",
     "output_type": "error",
     "traceback": [
      "\u001b[0;31m---------------------------------------------------------------------------\u001b[0m",
      "\u001b[0;31mInputError\u001b[0m                                Traceback (most recent call last)",
      "\u001b[0;32m<ipython-input-16-09a52299edd0>\u001b[0m in \u001b[0;36m<module>\u001b[0;34m\u001b[0m\n\u001b[1;32m      1\u001b[0m \u001b[0menigmaMachine\u001b[0m \u001b[0;34m=\u001b[0m \u001b[0mEnigmaMachine\u001b[0m\u001b[0;34m(\u001b[0m\u001b[0;34m)\u001b[0m\u001b[0;34m\u001b[0m\u001b[0;34m\u001b[0m\u001b[0m\n\u001b[1;32m      2\u001b[0m enigmaMachine.setup(rotors=[['RotorVI','j','G',1],['RotorII',1,'B',2],['RotorIII',1,'C',3]],\n\u001b[0;32m----> 3\u001b[0;31m                     reflector='ReflectorB',plugleads='AB EF GH IJ KL MN OP QR')\n\u001b[0m",
      "\u001b[0;32m~/Documents/GitHub/bath_msc/01_PoP/enigma/enigma.py\u001b[0m in \u001b[0;36msetup\u001b[0;34m(self, rotors, reflector, numPlugLeads, plugleads)\u001b[0m\n\u001b[1;32m    403\u001b[0m                     \u001b[0;32melse\u001b[0m\u001b[0;34m:\u001b[0m\u001b[0;34m\u001b[0m\u001b[0;34m\u001b[0m\u001b[0m\n\u001b[1;32m    404\u001b[0m                         \u001b[0;32mif\u001b[0m \u001b[0mlen\u001b[0m\u001b[0;34m(\u001b[0m\u001b[0mi\u001b[0m\u001b[0;34m)\u001b[0m \u001b[0;34m==\u001b[0m \u001b[0;36m4\u001b[0m\u001b[0;34m:\u001b[0m\u001b[0;34m\u001b[0m\u001b[0;34m\u001b[0m\u001b[0m\n\u001b[0;32m--> 405\u001b[0;31m                             \u001b[0mrotor\u001b[0m \u001b[0;34m=\u001b[0m \u001b[0mglobals\u001b[0m\u001b[0;34m(\u001b[0m\u001b[0;34m)\u001b[0m\u001b[0;34m[\u001b[0m\u001b[0mi\u001b[0m\u001b[0;34m[\u001b[0m\u001b[0;36m0\u001b[0m\u001b[0;34m]\u001b[0m\u001b[0;34m]\u001b[0m\u001b[0;34m(\u001b[0m\u001b[0mi\u001b[0m\u001b[0;34m[\u001b[0m\u001b[0;36m1\u001b[0m\u001b[0;34m]\u001b[0m\u001b[0;34m,\u001b[0m\u001b[0mi\u001b[0m\u001b[0;34m[\u001b[0m\u001b[0;36m2\u001b[0m\u001b[0;34m]\u001b[0m\u001b[0;34m)\u001b[0m\u001b[0;34m\u001b[0m\u001b[0;34m\u001b[0m\u001b[0m\n\u001b[0m\u001b[1;32m    406\u001b[0m                             \u001b[0mself\u001b[0m\u001b[0;34m.\u001b[0m\u001b[0maddRotor\u001b[0m\u001b[0;34m(\u001b[0m\u001b[0mrotor\u001b[0m\u001b[0;34m,\u001b[0m\u001b[0mi\u001b[0m\u001b[0;34m[\u001b[0m\u001b[0;36m3\u001b[0m\u001b[0;34m]\u001b[0m\u001b[0;34m)\u001b[0m\u001b[0;34m\u001b[0m\u001b[0;34m\u001b[0m\u001b[0m\n\u001b[1;32m    407\u001b[0m                         \u001b[0;32melse\u001b[0m\u001b[0;34m:\u001b[0m\u001b[0;34m\u001b[0m\u001b[0;34m\u001b[0m\u001b[0m\n",
      "\u001b[0;32m~/Documents/GitHub/bath_msc/01_PoP/enigma/enigma.py\u001b[0m in \u001b[0;36m__init__\u001b[0;34m(self, ringSetting, initialPos)\u001b[0m\n\u001b[1;32m    618\u001b[0m     \"\"\"\n\u001b[1;32m    619\u001b[0m     \u001b[0;32mdef\u001b[0m \u001b[0m__init__\u001b[0m\u001b[0;34m(\u001b[0m\u001b[0mself\u001b[0m\u001b[0;34m,\u001b[0m \u001b[0mringSetting\u001b[0m\u001b[0;34m,\u001b[0m \u001b[0minitialPos\u001b[0m\u001b[0;34m)\u001b[0m\u001b[0;34m:\u001b[0m\u001b[0;34m\u001b[0m\u001b[0;34m\u001b[0m\u001b[0m\n\u001b[0;32m--> 620\u001b[0;31m         \u001b[0msuper\u001b[0m\u001b[0;34m(\u001b[0m\u001b[0;34m)\u001b[0m\u001b[0;34m.\u001b[0m\u001b[0m__init__\u001b[0m\u001b[0;34m(\u001b[0m\u001b[0mringSetting\u001b[0m\u001b[0;34m,\u001b[0m \u001b[0minitialPos\u001b[0m\u001b[0;34m,\u001b[0m \u001b[0mrotorType\u001b[0m\u001b[0;34m=\u001b[0m\u001b[0;34m'notchrotor'\u001b[0m\u001b[0;34m,\u001b[0m \u001b[0mname\u001b[0m\u001b[0;34m=\u001b[0m\u001b[0;34m'VI'\u001b[0m\u001b[0;34m)\u001b[0m\u001b[0;34m\u001b[0m\u001b[0;34m\u001b[0m\u001b[0m\n\u001b[0m\u001b[1;32m    621\u001b[0m         \u001b[0mself\u001b[0m\u001b[0;34m.\u001b[0m\u001b[0mnotch\u001b[0m \u001b[0;34m=\u001b[0m \u001b[0;34m[\u001b[0m\u001b[0;34m'Z'\u001b[0m\u001b[0;34m,\u001b[0m\u001b[0;34m'M'\u001b[0m\u001b[0;34m]\u001b[0m\u001b[0;34m\u001b[0m\u001b[0;34m\u001b[0m\u001b[0m\n\u001b[1;32m    622\u001b[0m         \u001b[0mself\u001b[0m\u001b[0;34m.\u001b[0m\u001b[0mmapping\u001b[0m \u001b[0;34m=\u001b[0m \u001b[0;34m[\u001b[0m\u001b[0mx\u001b[0m \u001b[0;32mfor\u001b[0m \u001b[0mx\u001b[0m \u001b[0;32min\u001b[0m \u001b[0;34m'JPGVOUMFYQBENHZRDKASXLICTW'\u001b[0m\u001b[0;34m]\u001b[0m\u001b[0;34m\u001b[0m\u001b[0;34m\u001b[0m\u001b[0m\n",
      "\u001b[0;32m~/Documents/GitHub/bath_msc/01_PoP/enigma/enigma.py\u001b[0m in \u001b[0;36m__init__\u001b[0;34m(self, ringSetting, initialPos, rotorType, name)\u001b[0m\n\u001b[1;32m    457\u001b[0m \u001b[0;34m\u001b[0m\u001b[0m\n\u001b[1;32m    458\u001b[0m         \u001b[0;32melse\u001b[0m\u001b[0;34m:\u001b[0m\u001b[0;34m\u001b[0m\u001b[0;34m\u001b[0m\u001b[0m\n\u001b[0;32m--> 459\u001b[0;31m             \u001b[0mself\u001b[0m\u001b[0;34m.\u001b[0m\u001b[0mringSetting\u001b[0m \u001b[0;34m=\u001b[0m \u001b[0mself\u001b[0m\u001b[0;34m.\u001b[0m\u001b[0mset_ring_setting\u001b[0m\u001b[0;34m(\u001b[0m\u001b[0mringSetting\u001b[0m\u001b[0;34m)\u001b[0m\u001b[0;34m\u001b[0m\u001b[0;34m\u001b[0m\u001b[0m\n\u001b[0m\u001b[1;32m    460\u001b[0m             \u001b[0mself\u001b[0m\u001b[0;34m.\u001b[0m\u001b[0minitialPos\u001b[0m \u001b[0;34m=\u001b[0m \u001b[0mself\u001b[0m\u001b[0;34m.\u001b[0m\u001b[0mset_initial_pos\u001b[0m\u001b[0;34m(\u001b[0m\u001b[0minitialPos\u001b[0m\u001b[0;34m)\u001b[0m\u001b[0;34m\u001b[0m\u001b[0;34m\u001b[0m\u001b[0m\n\u001b[1;32m    461\u001b[0m             \u001b[0mself\u001b[0m\u001b[0;34m.\u001b[0m\u001b[0mcurrentPos\u001b[0m \u001b[0;34m=\u001b[0m \u001b[0mself\u001b[0m\u001b[0;34m.\u001b[0m\u001b[0mset_initial_pos\u001b[0m\u001b[0;34m(\u001b[0m\u001b[0minitialPos\u001b[0m\u001b[0;34m)\u001b[0m\u001b[0;34m\u001b[0m\u001b[0;34m\u001b[0m\u001b[0m\n",
      "\u001b[0;32m~/Documents/GitHub/bath_msc/01_PoP/enigma/errorHandling.py\u001b[0m in \u001b[0;36mcleaning_function\u001b[0;34m(selfObject, currentInput, *args, **kwargs)\u001b[0m\n\u001b[1;32m     91\u001b[0m \u001b[0;34m\u001b[0m\u001b[0m\n\u001b[1;32m     92\u001b[0m                 \u001b[0;32mif\u001b[0m \u001b[0minputClean\u001b[0m \u001b[0;34m<\u001b[0m \u001b[0;36m1\u001b[0m \u001b[0;32mor\u001b[0m \u001b[0minputClean\u001b[0m \u001b[0;34m>\u001b[0m \u001b[0;36m26\u001b[0m \u001b[0;32mor\u001b[0m \u001b[0mamountCharsInput\u001b[0m \u001b[0;34m>\u001b[0m \u001b[0mamountCharsClean\u001b[0m\u001b[0;34m:\u001b[0m\u001b[0;34m\u001b[0m\u001b[0;34m\u001b[0m\u001b[0m\n\u001b[0;32m---> 93\u001b[0;31m                     \u001b[0;32mraise\u001b[0m \u001b[0mInputError\u001b[0m\u001b[0;34m(\u001b[0m\u001b[0mcurrentInput\u001b[0m\u001b[0;34m,\u001b[0m \u001b[0mmessage\u001b[0m\u001b[0;34m=\u001b[0m\u001b[0;34m\"[{0}] Input can only take numbers between 1-26.\"\u001b[0m\u001b[0;34m.\u001b[0m\u001b[0mformat\u001b[0m\u001b[0;34m(\u001b[0m\u001b[0melement\u001b[0m\u001b[0;34m)\u001b[0m\u001b[0;34m)\u001b[0m\u001b[0;34m\u001b[0m\u001b[0;34m\u001b[0m\u001b[0m\n\u001b[0m\u001b[1;32m     94\u001b[0m \u001b[0;34m\u001b[0m\u001b[0m\n\u001b[1;32m     95\u001b[0m                 \u001b[0;32mreturn\u001b[0m \u001b[0mfunction\u001b[0m\u001b[0;34m(\u001b[0m\u001b[0mselfObject\u001b[0m\u001b[0;34m,\u001b[0m\u001b[0minputClean\u001b[0m\u001b[0;34m,\u001b[0m \u001b[0;34m*\u001b[0m\u001b[0margs\u001b[0m\u001b[0;34m,\u001b[0m \u001b[0;34m**\u001b[0m\u001b[0mkwargs\u001b[0m\u001b[0;34m)\u001b[0m\u001b[0;34m\u001b[0m\u001b[0;34m\u001b[0m\u001b[0m\n",
      "\u001b[0;31mInputError\u001b[0m: j - > [Ring Settings] Input can only take numbers between 1-26."
     ]
    }
   ],
   "source": [
    "enigmaMachine = EnigmaMachine()\n",
    "enigmaMachine.setup(rotors=[['RotorVI','j','G',1],['RotorII',1,'B',2],['RotorIII',1,'C',3]],\n",
    "                    reflector='ReflectorB',plugleads='AB EF GH IJ KL MN OP QR')"
   ]
  },
  {
   "cell_type": "markdown",
   "metadata": {},
   "source": [
    "#### Invalid number of arguments for setting up the Enigma Machine"
   ]
  },
  {
   "cell_type": "code",
   "execution_count": 17,
   "metadata": {
    "scrolled": true
   },
   "outputs": [
    {
     "ename": "ValueError",
     "evalue": "Please enter a valid number of arguments for rotor RotorVI",
     "output_type": "error",
     "traceback": [
      "\u001b[0;31m---------------------------------------------------------------------------\u001b[0m",
      "\u001b[0;31mValueError\u001b[0m                                Traceback (most recent call last)",
      "\u001b[0;32m<ipython-input-17-ddc8a6e09b2e>\u001b[0m in \u001b[0;36m<module>\u001b[0;34m\u001b[0m\n\u001b[1;32m      1\u001b[0m \u001b[0menigmaMachine\u001b[0m \u001b[0;34m=\u001b[0m \u001b[0mEnigmaMachine\u001b[0m\u001b[0;34m(\u001b[0m\u001b[0;34m)\u001b[0m\u001b[0;34m\u001b[0m\u001b[0;34m\u001b[0m\u001b[0m\n\u001b[1;32m      2\u001b[0m enigmaMachine.setup(rotors=[['RotorVI','j'],['RotorII',1,'B',2],['RotorIII',1,'C',3]],\n\u001b[0;32m----> 3\u001b[0;31m                     reflector='ReflectorB',plugleads='AB EF GH IJ KL MN OP QR')\n\u001b[0m",
      "\u001b[0;32m~/Documents/GitHub/bath_msc/01_PoP/enigma/enigma.py\u001b[0m in \u001b[0;36msetup\u001b[0;34m(self, rotors, reflector, numPlugLeads, plugleads)\u001b[0m\n\u001b[1;32m    387\u001b[0m         \u001b[0;32mfor\u001b[0m \u001b[0mi\u001b[0m \u001b[0;32min\u001b[0m \u001b[0mrotors\u001b[0m\u001b[0;34m:\u001b[0m\u001b[0;34m\u001b[0m\u001b[0;34m\u001b[0m\u001b[0m\n\u001b[1;32m    388\u001b[0m             \u001b[0;32mif\u001b[0m \u001b[0mlen\u001b[0m\u001b[0;34m(\u001b[0m\u001b[0mi\u001b[0m\u001b[0;34m)\u001b[0m \u001b[0;34m<\u001b[0m \u001b[0;36m4\u001b[0m\u001b[0;34m:\u001b[0m\u001b[0;34m\u001b[0m\u001b[0;34m\u001b[0m\u001b[0m\n\u001b[0;32m--> 389\u001b[0;31m                 \u001b[0;32mraise\u001b[0m \u001b[0mValueError\u001b[0m\u001b[0;34m(\u001b[0m\u001b[0;34m'Please enter a valid number of arguments for rotor {}'\u001b[0m\u001b[0;34m.\u001b[0m\u001b[0mformat\u001b[0m\u001b[0;34m(\u001b[0m\u001b[0mi\u001b[0m\u001b[0;34m[\u001b[0m\u001b[0;36m0\u001b[0m\u001b[0;34m]\u001b[0m\u001b[0;34m)\u001b[0m\u001b[0;34m)\u001b[0m\u001b[0;34m\u001b[0m\u001b[0;34m\u001b[0m\u001b[0m\n\u001b[0m\u001b[1;32m    390\u001b[0m             \u001b[0;32melse\u001b[0m\u001b[0;34m:\u001b[0m\u001b[0;34m\u001b[0m\u001b[0;34m\u001b[0m\u001b[0m\n\u001b[1;32m    391\u001b[0m                 \u001b[0;32mif\u001b[0m \u001b[0mi\u001b[0m\u001b[0;34m[\u001b[0m\u001b[0;36m0\u001b[0m\u001b[0;34m]\u001b[0m \u001b[0;32min\u001b[0m \u001b[0mvalidRotors\u001b[0m\u001b[0;34m:\u001b[0m\u001b[0;34m\u001b[0m\u001b[0;34m\u001b[0m\u001b[0m\n",
      "\u001b[0;31mValueError\u001b[0m: Please enter a valid number of arguments for rotor RotorVI"
     ]
    }
   ],
   "source": [
    "enigmaMachine = EnigmaMachine()\n",
    "enigmaMachine.setup(rotors=[['RotorVI','j'],['RotorII',1,'B',2],['RotorIII',1,'C',3]],\n",
    "                    reflector='ReflectorB',plugleads='AB EF GH IJ KL MN OP QR')"
   ]
  },
  {
   "cell_type": "code",
   "execution_count": 18,
   "metadata": {},
   "outputs": [
    {
     "ename": "ValueError",
     "evalue": "Please enter a valid number of arguments for Reflector",
     "output_type": "error",
     "traceback": [
      "\u001b[0;31m---------------------------------------------------------------------------\u001b[0m",
      "\u001b[0;31mValueError\u001b[0m                                Traceback (most recent call last)",
      "\u001b[0;32m<ipython-input-18-d23877e8381e>\u001b[0m in \u001b[0;36m<module>\u001b[0;34m\u001b[0m\n\u001b[1;32m      1\u001b[0m \u001b[0menigmaMachine\u001b[0m \u001b[0;34m=\u001b[0m \u001b[0mEnigmaMachine\u001b[0m\u001b[0;34m(\u001b[0m\u001b[0;34m)\u001b[0m\u001b[0;34m\u001b[0m\u001b[0;34m\u001b[0m\u001b[0m\n\u001b[1;32m      2\u001b[0m enigmaMachine.setup(rotors=[['RotorVI',5,'j',1],['RotorII',1,'B',2],['RotorIII',1,'C',3]],\n\u001b[0;32m----> 3\u001b[0;31m                     reflector=['ReflectorB','test','test'],plugleads='AB EF GH IJ KL MN OP QR')\n\u001b[0m",
      "\u001b[0;32m~/Documents/GitHub/bath_msc/01_PoP/enigma/enigma.py\u001b[0m in \u001b[0;36msetup\u001b[0;34m(self, rotors, reflector, numPlugLeads, plugleads)\u001b[0m\n\u001b[1;32m    412\u001b[0m         \u001b[0;32mif\u001b[0m \u001b[0mtype\u001b[0m\u001b[0;34m(\u001b[0m\u001b[0mreflector\u001b[0m\u001b[0;34m)\u001b[0m \u001b[0;34m==\u001b[0m \u001b[0mlist\u001b[0m\u001b[0;34m:\u001b[0m\u001b[0;34m\u001b[0m\u001b[0;34m\u001b[0m\u001b[0m\n\u001b[1;32m    413\u001b[0m             \u001b[0;32mif\u001b[0m \u001b[0mlen\u001b[0m\u001b[0;34m(\u001b[0m\u001b[0mreflector\u001b[0m\u001b[0;34m)\u001b[0m \u001b[0;34m!=\u001b[0m \u001b[0;36m2\u001b[0m\u001b[0;34m:\u001b[0m\u001b[0;34m\u001b[0m\u001b[0;34m\u001b[0m\u001b[0m\n\u001b[0;32m--> 414\u001b[0;31m                     \u001b[0;32mraise\u001b[0m \u001b[0mValueError\u001b[0m\u001b[0;34m(\u001b[0m\u001b[0;34m'Please enter a valid number of arguments for Reflector'\u001b[0m\u001b[0;34m)\u001b[0m\u001b[0;34m\u001b[0m\u001b[0;34m\u001b[0m\u001b[0m\n\u001b[0m\u001b[1;32m    415\u001b[0m             \u001b[0;32melse\u001b[0m\u001b[0;34m:\u001b[0m\u001b[0;34m\u001b[0m\u001b[0;34m\u001b[0m\u001b[0m\n\u001b[1;32m    416\u001b[0m                 \u001b[0;32mif\u001b[0m \u001b[0mreflector\u001b[0m\u001b[0;34m[\u001b[0m\u001b[0;36m0\u001b[0m\u001b[0;34m]\u001b[0m \u001b[0;32min\u001b[0m \u001b[0mvalidReflectors\u001b[0m \u001b[0;32mand\u001b[0m \u001b[0mlen\u001b[0m\u001b[0;34m(\u001b[0m\u001b[0mreflector\u001b[0m\u001b[0;34m[\u001b[0m\u001b[0;36m1\u001b[0m\u001b[0;34m]\u001b[0m\u001b[0;34m)\u001b[0m \u001b[0;34m==\u001b[0m \u001b[0;36m26\u001b[0m\u001b[0;34m:\u001b[0m\u001b[0;34m\u001b[0m\u001b[0;34m\u001b[0m\u001b[0m\n",
      "\u001b[0;31mValueError\u001b[0m: Please enter a valid number of arguments for Reflector"
     ]
    }
   ],
   "source": [
    "enigmaMachine = EnigmaMachine()\n",
    "enigmaMachine.setup(rotors=[['RotorVI',5,'j',1],['RotorII',1,'B',2],['RotorIII',1,'C',3]],\n",
    "                    reflector=['ReflectorB','test','test'],plugleads='AB EF GH IJ KL MN OP QR')"
   ]
  },
  {
   "cell_type": "markdown",
   "metadata": {},
   "source": [
    "#### Creating an Enigma Machine with less than 3 rotors"
   ]
  },
  {
   "cell_type": "code",
   "execution_count": 19,
   "metadata": {
    "scrolled": true
   },
   "outputs": [
    {
     "ename": "ValueError",
     "evalue": "Minimum number of rotors is 3.",
     "output_type": "error",
     "traceback": [
      "\u001b[0;31m---------------------------------------------------------------------------\u001b[0m",
      "\u001b[0;31mValueError\u001b[0m                                Traceback (most recent call last)",
      "\u001b[0;32m<ipython-input-19-85d972491dd1>\u001b[0m in \u001b[0;36m<module>\u001b[0;34m\u001b[0m\n\u001b[1;32m      1\u001b[0m \u001b[0menigmaMachine\u001b[0m \u001b[0;34m=\u001b[0m \u001b[0mEnigmaMachine\u001b[0m\u001b[0;34m(\u001b[0m\u001b[0;34m)\u001b[0m\u001b[0;34m\u001b[0m\u001b[0;34m\u001b[0m\u001b[0m\n\u001b[1;32m      2\u001b[0m enigmaMachine.setup(rotors=[['RotorVI',1,'j',1],['RotorII',1,'B',2]],\n\u001b[0;32m----> 3\u001b[0;31m                     reflector='ReflectorB',plugleads='AB EF GH IJ KL MN OP QR')\n\u001b[0m",
      "\u001b[0;32m~/Documents/GitHub/bath_msc/01_PoP/enigma/enigma.py\u001b[0m in \u001b[0;36msetup\u001b[0;34m(self, rotors, reflector, numPlugLeads, plugleads)\u001b[0m\n\u001b[1;32m    383\u001b[0m \u001b[0;34m\u001b[0m\u001b[0m\n\u001b[1;32m    384\u001b[0m         \u001b[0;32mif\u001b[0m \u001b[0mlen\u001b[0m\u001b[0;34m(\u001b[0m\u001b[0mrotors\u001b[0m\u001b[0;34m)\u001b[0m \u001b[0;34m<\u001b[0m \u001b[0;36m3\u001b[0m\u001b[0;34m:\u001b[0m\u001b[0;34m\u001b[0m\u001b[0;34m\u001b[0m\u001b[0m\n\u001b[0;32m--> 385\u001b[0;31m             \u001b[0;32mraise\u001b[0m \u001b[0mValueError\u001b[0m\u001b[0;34m(\u001b[0m\u001b[0;34m'Minimum number of rotors is 3.'\u001b[0m\u001b[0;34m)\u001b[0m\u001b[0;34m\u001b[0m\u001b[0;34m\u001b[0m\u001b[0m\n\u001b[0m\u001b[1;32m    386\u001b[0m \u001b[0;34m\u001b[0m\u001b[0m\n\u001b[1;32m    387\u001b[0m         \u001b[0;32mfor\u001b[0m \u001b[0mi\u001b[0m \u001b[0;32min\u001b[0m \u001b[0mrotors\u001b[0m\u001b[0;34m:\u001b[0m\u001b[0;34m\u001b[0m\u001b[0;34m\u001b[0m\u001b[0m\n",
      "\u001b[0;31mValueError\u001b[0m: Minimum number of rotors is 3."
     ]
    }
   ],
   "source": [
    "enigmaMachine = EnigmaMachine()\n",
    "enigmaMachine.setup(rotors=[['RotorVI',1,'j',1],['RotorII',1,'B',2]],\n",
    "                    reflector='ReflectorB',plugleads='AB EF GH IJ KL MN OP QR')"
   ]
  },
  {
   "cell_type": "markdown",
   "metadata": {},
   "source": [
    "#### Repating notches for custom rotor"
   ]
  },
  {
   "cell_type": "code",
   "execution_count": 20,
   "metadata": {},
   "outputs": [
    {
     "ename": "ValueError",
     "evalue": "Notches cannot repeat letters.",
     "output_type": "error",
     "traceback": [
      "\u001b[0;31m---------------------------------------------------------------------------\u001b[0m",
      "\u001b[0;31mValueError\u001b[0m                                Traceback (most recent call last)",
      "\u001b[0;32m<ipython-input-20-29fed559d064>\u001b[0m in \u001b[0;36m<module>\u001b[0;34m\u001b[0m\n\u001b[1;32m      2\u001b[0m enigmaMachine.setup(rotors=[['RotorCustom',1,'A',1,'ABCEDGFHIJKLMONPQRSTUVWXYZ','AA'],\n\u001b[1;32m      3\u001b[0m                             ['RotorII',1,'A',2],['RotorVIII',1,'Z',3]],\n\u001b[0;32m----> 4\u001b[0;31m                     reflector='ReflectorBThin')\n\u001b[0m",
      "\u001b[0;32m~/Documents/GitHub/bath_msc/01_PoP/enigma/enigma.py\u001b[0m in \u001b[0;36msetup\u001b[0;34m(self, rotors, reflector, numPlugLeads, plugleads)\u001b[0m\n\u001b[1;32m    395\u001b[0m                             \u001b[0mself\u001b[0m\u001b[0;34m.\u001b[0m\u001b[0maddRotor\u001b[0m\u001b[0;34m(\u001b[0m\u001b[0mrotor\u001b[0m\u001b[0;34m,\u001b[0m\u001b[0mi\u001b[0m\u001b[0;34m[\u001b[0m\u001b[0;36m3\u001b[0m\u001b[0;34m]\u001b[0m\u001b[0;34m)\u001b[0m\u001b[0;34m\u001b[0m\u001b[0;34m\u001b[0m\u001b[0m\n\u001b[1;32m    396\u001b[0m                         \u001b[0;32melif\u001b[0m \u001b[0mlen\u001b[0m\u001b[0;34m(\u001b[0m\u001b[0mi\u001b[0m\u001b[0;34m)\u001b[0m \u001b[0;34m==\u001b[0m \u001b[0;36m6\u001b[0m \u001b[0;32mand\u001b[0m \u001b[0mlen\u001b[0m\u001b[0;34m(\u001b[0m\u001b[0mi\u001b[0m\u001b[0;34m[\u001b[0m\u001b[0;36m4\u001b[0m\u001b[0;34m]\u001b[0m\u001b[0;34m)\u001b[0m\u001b[0;34m==\u001b[0m\u001b[0;36m26\u001b[0m\u001b[0;34m:\u001b[0m\u001b[0;34m\u001b[0m\u001b[0;34m\u001b[0m\u001b[0m\n\u001b[0;32m--> 397\u001b[0;31m                             \u001b[0mrotor\u001b[0m \u001b[0;34m=\u001b[0m \u001b[0mglobals\u001b[0m\u001b[0;34m(\u001b[0m\u001b[0;34m)\u001b[0m\u001b[0;34m[\u001b[0m\u001b[0mi\u001b[0m\u001b[0;34m[\u001b[0m\u001b[0;36m0\u001b[0m\u001b[0;34m]\u001b[0m\u001b[0;34m]\u001b[0m\u001b[0;34m(\u001b[0m\u001b[0mi\u001b[0m\u001b[0;34m[\u001b[0m\u001b[0;36m1\u001b[0m\u001b[0;34m]\u001b[0m\u001b[0;34m,\u001b[0m\u001b[0mi\u001b[0m\u001b[0;34m[\u001b[0m\u001b[0;36m2\u001b[0m\u001b[0;34m]\u001b[0m\u001b[0;34m,\u001b[0m\u001b[0mi\u001b[0m\u001b[0;34m[\u001b[0m\u001b[0;36m4\u001b[0m\u001b[0;34m]\u001b[0m\u001b[0;34m,\u001b[0m\u001b[0mi\u001b[0m\u001b[0;34m[\u001b[0m\u001b[0;36m5\u001b[0m\u001b[0;34m]\u001b[0m\u001b[0;34m)\u001b[0m\u001b[0;34m\u001b[0m\u001b[0;34m\u001b[0m\u001b[0m\n\u001b[0m\u001b[1;32m    398\u001b[0m                             \u001b[0mself\u001b[0m\u001b[0;34m.\u001b[0m\u001b[0maddRotor\u001b[0m\u001b[0;34m(\u001b[0m\u001b[0mrotor\u001b[0m\u001b[0;34m,\u001b[0m\u001b[0mi\u001b[0m\u001b[0;34m[\u001b[0m\u001b[0;36m3\u001b[0m\u001b[0;34m]\u001b[0m\u001b[0;34m)\u001b[0m\u001b[0;34m\u001b[0m\u001b[0;34m\u001b[0m\u001b[0m\n\u001b[1;32m    399\u001b[0m                         \u001b[0;32melse\u001b[0m\u001b[0;34m:\u001b[0m\u001b[0;34m\u001b[0m\u001b[0;34m\u001b[0m\u001b[0m\n",
      "\u001b[0;32m~/Documents/GitHub/bath_msc/01_PoP/enigma/enigma.py\u001b[0m in \u001b[0;36m__init__\u001b[0;34m(self, ringSetting, initialPos, mapping, notches)\u001b[0m\n\u001b[1;32m    668\u001b[0m                 \u001b[0melementsCount\u001b[0m\u001b[0;34m[\u001b[0m\u001b[0mi\u001b[0m\u001b[0;34m]\u001b[0m \u001b[0;34m+=\u001b[0m \u001b[0;36m1\u001b[0m\u001b[0;34m\u001b[0m\u001b[0;34m\u001b[0m\u001b[0m\n\u001b[1;32m    669\u001b[0m             \u001b[0;32mif\u001b[0m \u001b[0msorted\u001b[0m\u001b[0;34m(\u001b[0m\u001b[0melementsCount\u001b[0m\u001b[0;34m.\u001b[0m\u001b[0mvalues\u001b[0m\u001b[0;34m(\u001b[0m\u001b[0;34m)\u001b[0m\u001b[0;34m)\u001b[0m\u001b[0;34m[\u001b[0m\u001b[0;34m-\u001b[0m\u001b[0;36m1\u001b[0m\u001b[0;34m]\u001b[0m \u001b[0;34m>\u001b[0m \u001b[0;36m1\u001b[0m\u001b[0;34m:\u001b[0m\u001b[0;34m\u001b[0m\u001b[0;34m\u001b[0m\u001b[0m\n\u001b[0;32m--> 670\u001b[0;31m                 \u001b[0;32mraise\u001b[0m \u001b[0mValueError\u001b[0m\u001b[0;34m(\u001b[0m\u001b[0;34m\"Notches cannot repeat letters.\"\u001b[0m\u001b[0;34m)\u001b[0m\u001b[0;34m\u001b[0m\u001b[0;34m\u001b[0m\u001b[0m\n\u001b[0m\u001b[1;32m    671\u001b[0m             \u001b[0;32mif\u001b[0m \u001b[0mlen\u001b[0m\u001b[0;34m(\u001b[0m\u001b[0mitsNotch\u001b[0m\u001b[0;34m)\u001b[0m \u001b[0;34m>\u001b[0m \u001b[0;36m26\u001b[0m\u001b[0;34m:\u001b[0m\u001b[0;34m\u001b[0m\u001b[0;34m\u001b[0m\u001b[0m\n\u001b[1;32m    672\u001b[0m                 \u001b[0;32mraise\u001b[0m \u001b[0mValueError\u001b[0m\u001b[0;34m(\u001b[0m\u001b[0;34m'Amount of notches cannot be greater than 26.'\u001b[0m\u001b[0;34m)\u001b[0m\u001b[0;34m\u001b[0m\u001b[0;34m\u001b[0m\u001b[0m\n",
      "\u001b[0;31mValueError\u001b[0m: Notches cannot repeat letters."
     ]
    }
   ],
   "source": [
    "enigmaMachine = EnigmaMachine()\n",
    "enigmaMachine.setup(rotors=[['RotorCustom',1,'A',1,'ABCEDGFHIJKLMONPQRSTUVWXYZ','AA'],\n",
    "                            ['RotorII',1,'A',2],['RotorVIII',1,'Z',3]],\n",
    "                    reflector='ReflectorBThin')"
   ]
  },
  {
   "cell_type": "markdown",
   "metadata": {},
   "source": [
    "#### Repeating letters in Custom Rotor and Custom Reflector mapping"
   ]
  },
  {
   "cell_type": "code",
   "execution_count": 21,
   "metadata": {},
   "outputs": [
    {
     "ename": "ValueError",
     "evalue": "Mapping cannot repeat letters.",
     "output_type": "error",
     "traceback": [
      "\u001b[0;31m---------------------------------------------------------------------------\u001b[0m",
      "\u001b[0;31mValueError\u001b[0m                                Traceback (most recent call last)",
      "\u001b[0;32m<ipython-input-21-b5f6fab7896b>\u001b[0m in \u001b[0;36m<module>\u001b[0;34m\u001b[0m\n\u001b[1;32m      2\u001b[0m enigmaMachine.setup(rotors=[['RotorCustom',1,'A',1,'ABBEDGFHIJKLMONPQRSTUVWXYZ','ACD'],\n\u001b[1;32m      3\u001b[0m                             ['RotorII',1,'A',2],['RotorVIII',1,'Z',3]],\n\u001b[0;32m----> 4\u001b[0;31m                     reflector='ReflectorBThin')\n\u001b[0m",
      "\u001b[0;32m~/Documents/GitHub/bath_msc/01_PoP/enigma/enigma.py\u001b[0m in \u001b[0;36msetup\u001b[0;34m(self, rotors, reflector, numPlugLeads, plugleads)\u001b[0m\n\u001b[1;32m    395\u001b[0m                             \u001b[0mself\u001b[0m\u001b[0;34m.\u001b[0m\u001b[0maddRotor\u001b[0m\u001b[0;34m(\u001b[0m\u001b[0mrotor\u001b[0m\u001b[0;34m,\u001b[0m\u001b[0mi\u001b[0m\u001b[0;34m[\u001b[0m\u001b[0;36m3\u001b[0m\u001b[0;34m]\u001b[0m\u001b[0;34m)\u001b[0m\u001b[0;34m\u001b[0m\u001b[0;34m\u001b[0m\u001b[0m\n\u001b[1;32m    396\u001b[0m                         \u001b[0;32melif\u001b[0m \u001b[0mlen\u001b[0m\u001b[0;34m(\u001b[0m\u001b[0mi\u001b[0m\u001b[0;34m)\u001b[0m \u001b[0;34m==\u001b[0m \u001b[0;36m6\u001b[0m \u001b[0;32mand\u001b[0m \u001b[0mlen\u001b[0m\u001b[0;34m(\u001b[0m\u001b[0mi\u001b[0m\u001b[0;34m[\u001b[0m\u001b[0;36m4\u001b[0m\u001b[0;34m]\u001b[0m\u001b[0;34m)\u001b[0m\u001b[0;34m==\u001b[0m\u001b[0;36m26\u001b[0m\u001b[0;34m:\u001b[0m\u001b[0;34m\u001b[0m\u001b[0;34m\u001b[0m\u001b[0m\n\u001b[0;32m--> 397\u001b[0;31m                             \u001b[0mrotor\u001b[0m \u001b[0;34m=\u001b[0m \u001b[0mglobals\u001b[0m\u001b[0;34m(\u001b[0m\u001b[0;34m)\u001b[0m\u001b[0;34m[\u001b[0m\u001b[0mi\u001b[0m\u001b[0;34m[\u001b[0m\u001b[0;36m0\u001b[0m\u001b[0;34m]\u001b[0m\u001b[0;34m]\u001b[0m\u001b[0;34m(\u001b[0m\u001b[0mi\u001b[0m\u001b[0;34m[\u001b[0m\u001b[0;36m1\u001b[0m\u001b[0;34m]\u001b[0m\u001b[0;34m,\u001b[0m\u001b[0mi\u001b[0m\u001b[0;34m[\u001b[0m\u001b[0;36m2\u001b[0m\u001b[0;34m]\u001b[0m\u001b[0;34m,\u001b[0m\u001b[0mi\u001b[0m\u001b[0;34m[\u001b[0m\u001b[0;36m4\u001b[0m\u001b[0;34m]\u001b[0m\u001b[0;34m,\u001b[0m\u001b[0mi\u001b[0m\u001b[0;34m[\u001b[0m\u001b[0;36m5\u001b[0m\u001b[0;34m]\u001b[0m\u001b[0;34m)\u001b[0m\u001b[0;34m\u001b[0m\u001b[0;34m\u001b[0m\u001b[0m\n\u001b[0m\u001b[1;32m    398\u001b[0m                             \u001b[0mself\u001b[0m\u001b[0;34m.\u001b[0m\u001b[0maddRotor\u001b[0m\u001b[0;34m(\u001b[0m\u001b[0mrotor\u001b[0m\u001b[0;34m,\u001b[0m\u001b[0mi\u001b[0m\u001b[0;34m[\u001b[0m\u001b[0;36m3\u001b[0m\u001b[0;34m]\u001b[0m\u001b[0;34m)\u001b[0m\u001b[0;34m\u001b[0m\u001b[0;34m\u001b[0m\u001b[0m\n\u001b[1;32m    399\u001b[0m                         \u001b[0;32melse\u001b[0m\u001b[0;34m:\u001b[0m\u001b[0;34m\u001b[0m\u001b[0;34m\u001b[0m\u001b[0m\n",
      "\u001b[0;32m~/Documents/GitHub/bath_msc/01_PoP/enigma/enigma.py\u001b[0m in \u001b[0;36m__init__\u001b[0;34m(self, ringSetting, initialPos, mapping, notches)\u001b[0m\n\u001b[1;32m    678\u001b[0m             \u001b[0melementsCount\u001b[0m\u001b[0;34m[\u001b[0m\u001b[0mi\u001b[0m\u001b[0;34m]\u001b[0m \u001b[0;34m+=\u001b[0m \u001b[0;36m1\u001b[0m\u001b[0;34m\u001b[0m\u001b[0;34m\u001b[0m\u001b[0m\n\u001b[1;32m    679\u001b[0m         \u001b[0;32mif\u001b[0m \u001b[0msorted\u001b[0m\u001b[0;34m(\u001b[0m\u001b[0melementsCount\u001b[0m\u001b[0;34m.\u001b[0m\u001b[0mvalues\u001b[0m\u001b[0;34m(\u001b[0m\u001b[0;34m)\u001b[0m\u001b[0;34m)\u001b[0m\u001b[0;34m[\u001b[0m\u001b[0;34m-\u001b[0m\u001b[0;36m1\u001b[0m\u001b[0;34m]\u001b[0m \u001b[0;34m>\u001b[0m \u001b[0;36m1\u001b[0m\u001b[0;34m:\u001b[0m\u001b[0;34m\u001b[0m\u001b[0;34m\u001b[0m\u001b[0m\n\u001b[0;32m--> 680\u001b[0;31m             \u001b[0;32mraise\u001b[0m \u001b[0mValueError\u001b[0m\u001b[0;34m(\u001b[0m\u001b[0;34m\"Mapping cannot repeat letters.\"\u001b[0m\u001b[0;34m)\u001b[0m\u001b[0;34m\u001b[0m\u001b[0;34m\u001b[0m\u001b[0m\n\u001b[0m\u001b[1;32m    681\u001b[0m         \u001b[0;32melse\u001b[0m\u001b[0;34m:\u001b[0m\u001b[0;34m\u001b[0m\u001b[0;34m\u001b[0m\u001b[0m\n\u001b[1;32m    682\u001b[0m             \u001b[0mself\u001b[0m\u001b[0;34m.\u001b[0m\u001b[0mmapping\u001b[0m \u001b[0;34m=\u001b[0m \u001b[0;34m[\u001b[0m\u001b[0mx\u001b[0m \u001b[0;32mfor\u001b[0m \u001b[0mx\u001b[0m \u001b[0;32min\u001b[0m \u001b[0mmapping\u001b[0m\u001b[0;34m]\u001b[0m\u001b[0;34m\u001b[0m\u001b[0;34m\u001b[0m\u001b[0m\n",
      "\u001b[0;31mValueError\u001b[0m: Mapping cannot repeat letters."
     ]
    }
   ],
   "source": [
    "enigmaMachine = EnigmaMachine()\n",
    "enigmaMachine.setup(rotors=[['RotorCustom',1,'A',1,'ABBEDGFHIJKLMONPQRSTUVWXYZ','ACD'],\n",
    "                            ['RotorII',1,'A',2],['RotorVIII',1,'Z',3]],\n",
    "                    reflector='ReflectorBThin')"
   ]
  },
  {
   "cell_type": "code",
   "execution_count": 22,
   "metadata": {},
   "outputs": [
    {
     "ename": "ValueError",
     "evalue": "Mapping cannot repeat letters.",
     "output_type": "error",
     "traceback": [
      "\u001b[0;31m---------------------------------------------------------------------------\u001b[0m",
      "\u001b[0;31mValueError\u001b[0m                                Traceback (most recent call last)",
      "\u001b[0;32m<ipython-input-22-2a3bb7282ee7>\u001b[0m in \u001b[0;36m<module>\u001b[0;34m\u001b[0m\n\u001b[1;32m      1\u001b[0m \u001b[0menigmaMachine\u001b[0m \u001b[0;34m=\u001b[0m \u001b[0mEnigmaMachine\u001b[0m\u001b[0;34m(\u001b[0m\u001b[0;34m)\u001b[0m\u001b[0;34m\u001b[0m\u001b[0;34m\u001b[0m\u001b[0m\n\u001b[1;32m      2\u001b[0m enigmaMachine.setup(rotors=[['RotorI',1,'A',1],['RotorII',1,'A',2],['RotorIII',1,'Z',3]],\n\u001b[0;32m----> 3\u001b[0;31m                     reflector=['ReflectorCustom','ABBEDGFHIJKLMONPQRSTUVWXYZ'])\n\u001b[0m",
      "\u001b[0;32m~/Documents/GitHub/bath_msc/01_PoP/enigma/enigma.py\u001b[0m in \u001b[0;36msetup\u001b[0;34m(self, rotors, reflector, numPlugLeads, plugleads)\u001b[0m\n\u001b[1;32m    415\u001b[0m             \u001b[0;32melse\u001b[0m\u001b[0;34m:\u001b[0m\u001b[0;34m\u001b[0m\u001b[0;34m\u001b[0m\u001b[0m\n\u001b[1;32m    416\u001b[0m                 \u001b[0;32mif\u001b[0m \u001b[0mreflector\u001b[0m\u001b[0;34m[\u001b[0m\u001b[0;36m0\u001b[0m\u001b[0;34m]\u001b[0m \u001b[0;32min\u001b[0m \u001b[0mvalidReflectors\u001b[0m \u001b[0;32mand\u001b[0m \u001b[0mlen\u001b[0m\u001b[0;34m(\u001b[0m\u001b[0mreflector\u001b[0m\u001b[0;34m[\u001b[0m\u001b[0;36m1\u001b[0m\u001b[0;34m]\u001b[0m\u001b[0;34m)\u001b[0m \u001b[0;34m==\u001b[0m \u001b[0;36m26\u001b[0m\u001b[0;34m:\u001b[0m\u001b[0;34m\u001b[0m\u001b[0;34m\u001b[0m\u001b[0m\n\u001b[0;32m--> 417\u001b[0;31m                     \u001b[0mreflector\u001b[0m \u001b[0;34m=\u001b[0m \u001b[0mglobals\u001b[0m\u001b[0;34m(\u001b[0m\u001b[0;34m)\u001b[0m\u001b[0;34m[\u001b[0m\u001b[0mreflector\u001b[0m\u001b[0;34m[\u001b[0m\u001b[0;36m0\u001b[0m\u001b[0;34m]\u001b[0m\u001b[0;34m]\u001b[0m\u001b[0;34m(\u001b[0m\u001b[0mreflector\u001b[0m\u001b[0;34m[\u001b[0m\u001b[0;36m1\u001b[0m\u001b[0;34m]\u001b[0m\u001b[0;34m)\u001b[0m\u001b[0;34m\u001b[0m\u001b[0;34m\u001b[0m\u001b[0m\n\u001b[0m\u001b[1;32m    418\u001b[0m                 \u001b[0;32melse\u001b[0m\u001b[0;34m:\u001b[0m\u001b[0;34m\u001b[0m\u001b[0;34m\u001b[0m\u001b[0m\n\u001b[1;32m    419\u001b[0m                     raise ValueError('Please enter valid arguments for reflector {}.'.format(reflector[0]) +\\\n",
      "\u001b[0;32m~/Documents/GitHub/bath_msc/01_PoP/enigma/enigma.py\u001b[0m in \u001b[0;36m__init__\u001b[0;34m(self, mapping)\u001b[0m\n\u001b[1;32m    773\u001b[0m             \u001b[0melementsCount\u001b[0m\u001b[0;34m[\u001b[0m\u001b[0mi\u001b[0m\u001b[0;34m]\u001b[0m \u001b[0;34m+=\u001b[0m \u001b[0;36m1\u001b[0m\u001b[0;34m\u001b[0m\u001b[0;34m\u001b[0m\u001b[0m\n\u001b[1;32m    774\u001b[0m         \u001b[0;32mif\u001b[0m \u001b[0msorted\u001b[0m\u001b[0;34m(\u001b[0m\u001b[0melementsCount\u001b[0m\u001b[0;34m.\u001b[0m\u001b[0mvalues\u001b[0m\u001b[0;34m(\u001b[0m\u001b[0;34m)\u001b[0m\u001b[0;34m)\u001b[0m\u001b[0;34m[\u001b[0m\u001b[0;34m-\u001b[0m\u001b[0;36m1\u001b[0m\u001b[0;34m]\u001b[0m \u001b[0;34m>\u001b[0m \u001b[0;36m1\u001b[0m\u001b[0;34m:\u001b[0m\u001b[0;34m\u001b[0m\u001b[0;34m\u001b[0m\u001b[0m\n\u001b[0;32m--> 775\u001b[0;31m             \u001b[0;32mraise\u001b[0m \u001b[0mValueError\u001b[0m\u001b[0;34m(\u001b[0m\u001b[0;34m\"Mapping cannot repeat letters.\"\u001b[0m\u001b[0;34m)\u001b[0m\u001b[0;34m\u001b[0m\u001b[0;34m\u001b[0m\u001b[0m\n\u001b[0m\u001b[1;32m    776\u001b[0m         \u001b[0;32melse\u001b[0m\u001b[0;34m:\u001b[0m\u001b[0;34m\u001b[0m\u001b[0;34m\u001b[0m\u001b[0m\n\u001b[1;32m    777\u001b[0m             \u001b[0mself\u001b[0m\u001b[0;34m.\u001b[0m\u001b[0mmapping\u001b[0m \u001b[0;34m=\u001b[0m \u001b[0;34m[\u001b[0m\u001b[0mx\u001b[0m \u001b[0;32mfor\u001b[0m \u001b[0mx\u001b[0m \u001b[0;32min\u001b[0m \u001b[0mmapping\u001b[0m\u001b[0;34m]\u001b[0m\u001b[0;34m\u001b[0m\u001b[0;34m\u001b[0m\u001b[0m\n",
      "\u001b[0;31mValueError\u001b[0m: Mapping cannot repeat letters."
     ]
    }
   ],
   "source": [
    "enigmaMachine = EnigmaMachine()\n",
    "enigmaMachine.setup(rotors=[['RotorI',1,'A',1],['RotorII',1,'A',2],['RotorIII',1,'Z',3]],\n",
    "                    reflector=['ReflectorCustom','ABBEDGFHIJKLMONPQRSTUVWXYZ'])"
   ]
  }
 ],
 "metadata": {
  "kernelspec": {
   "display_name": "Python 3",
   "language": "python",
   "name": "python3"
  },
  "language_info": {
   "codemirror_mode": {
    "name": "ipython",
    "version": 3
   },
   "file_extension": ".py",
   "mimetype": "text/x-python",
   "name": "python",
   "nbconvert_exporter": "python",
   "pygments_lexer": "ipython3",
   "version": "3.7.1"
  }
 },
 "nbformat": 4,
 "nbformat_minor": 4
}
